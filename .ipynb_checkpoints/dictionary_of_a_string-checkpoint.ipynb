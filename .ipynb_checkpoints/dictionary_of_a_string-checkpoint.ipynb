{
 "cells": [
  {
   "cell_type": "code",
   "execution_count": 15,
   "id": "2e37ec06-c9d4-456e-9663-eee2f283da45",
   "metadata": {},
   "outputs": [
    {
     "name": "stdout",
     "output_type": "stream",
     "text": [
      "{'mary': 6, 'had': 2, 'a': 2, 'little': 4, 'lamb': 4, 'lambits': 1, 'fleece': 1, 'was': 2, 'white': 1, 'as': 1, 'snow': 1, 'and': 1, 'everywhere': 2, 'that': 2, 'went': 4, 'the': 1, 'sure': 1, 'to': 1, 'go': 1}\n"
     ]
    }
   ],
   "source": [
    "import string\n",
    "\n",
    "def freq(text):\n",
    "    # lower case\n",
    "    text = text.lower()\n",
    "    # erase punctuation\n",
    "    for char in string.punctuation:\n",
    "        text = text.replace(char, \"\")\n",
    "    \n",
    "    words = []\n",
    "    words = text.split()\n",
    "\n",
    "    global Dic\n",
    "    Dic = {}\n",
    "    for key in words:\n",
    "        Dic[key] = words.count(key)\n",
    "    print(\"Here you have all the different words with its frequency: \", Dic)\n",
    "\n",
    "freq(\"Mary had a little lamb Little lamb, little lamb Mary had a little lamb.Its fleece was white as snow And everywhere that Mary went Mary went, Mary went \\\n",
    "Everywhere that Mary went The lamb was sure to go\")\n",
    "#print(Dic)\n"
   ]
  }
 ],
 "metadata": {
  "kernelspec": {
   "display_name": "Python 3 (ipykernel)",
   "language": "python",
   "name": "python3"
  },
  "language_info": {
   "codemirror_mode": {
    "name": "ipython",
    "version": 3
   },
   "file_extension": ".py",
   "mimetype": "text/x-python",
   "name": "python",
   "nbconvert_exporter": "python",
   "pygments_lexer": "ipython3",
   "version": "3.13.1"
  }
 },
 "nbformat": 4,
 "nbformat_minor": 5
}
