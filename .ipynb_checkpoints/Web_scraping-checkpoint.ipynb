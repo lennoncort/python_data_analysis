{
 "cells": [
  {
   "cell_type": "markdown",
   "id": "7e793fd6-7bd1-43ec-99e3-992239dde56a",
   "metadata": {},
   "source": [
    "# BeautifulSoup:\n",
    "BeautifulSoup is a Python library used for web scraping purposes to pull the data out of HTML and XML files. It creates a parse tree from page source code that can be used to extract data in a hierarchical and more readable manner.\n"
   ]
  },
  {
   "cell_type": "code",
   "execution_count": 1,
   "id": "ef4eee55-e1d4-4df9-aebe-a0adce8a7f3c",
   "metadata": {},
   "outputs": [],
   "source": [
    "import requests\n",
    "from bs4 import BeautifulSoup\n",
    "\n",
    "page = requests.get()\n",
    "\n",
    "#Creates beautifulsoup object\n",
    "soup = BeautifulSoup(page, \"html.parser\")\n",
    "\n",
    "#pulls all instances of <a> tag\n",
    "artists = soup.find_all('a')\n",
    "\n",
    "#Clear data of all tags\n",
    "for artist in artitst:\n",
    "    names = artist.contents[0]\n",
    "    fullLink = artist.get('href')\n",
    "    print(names)\n",
    "    print(fullLink)"
   ]
  },
  {
   "cell_type": "markdown",
   "id": "f2cb2589-9054-47fb-9ac5-eebf41749b06",
   "metadata": {},
   "source": [
    "# Scrapy\n",
    " Scrapy is an open-source and collaborative web crawling framework for Python. It is used to extract the data from the website.\n"
   ]
  },
  {
   "cell_type": "code",
   "execution_count": null,
   "id": "3aa86a38-7cc9-4ed2-9583-4895df258584",
   "metadata": {},
   "outputs": [],
   "source": [
    "import scrapy\n",
    "class QuotesSpider(scrapy.Spider):\n",
    "    name = \"quotes\"\n",
    "    start_urls = ['http://quotes.toscrape.com/tag/humor/',]\n",
    "    def parse(self, response):\n",
    "        for quote in response.css('div.quote'):\n",
    "            yield {'quote': quote.css('span.text::text').get()}"
   ]
  },
  {
   "cell_type": "markdown",
   "id": "6235929f-2ded-4581-9f9e-e75cf438e5c2",
   "metadata": {},
   "source": [
    "# Selenium:\n",
    "Selenium is a tool used for controlling web browsers through programs and automating browser tasks."
   ]
  },
  {
   "cell_type": "code",
   "execution_count": null,
   "id": "0985fd30-c9ce-4316-8560-126ec820674f",
   "metadata": {},
   "outputs": [],
   "source": [
    "from selenium import webdriver\n",
    "driver = webdriver.Firefox()\n",
    "driver.get(\"http://www.example.com\")"
   ]
  },
  {
   "cell_type": "markdown",
   "id": "ef44af9e-4d4f-474e-9566-0b91b164bd67",
   "metadata": {},
   "source": [
    "# Web Scraping Tables using Pandas"
   ]
  },
  {
   "cell_type": "code",
   "execution_count": 8,
   "id": "80b5d608-cbb3-4dd5-b04f-c2ddecea3caf",
   "metadata": {},
   "outputs": [
    {
     "name": "stdout",
     "output_type": "stream",
     "text": [
      "    Rank                                Bank name  \\\n",
      "0      1  Industrial and Commercial Bank of China   \n",
      "1      2               Agricultural Bank of China   \n",
      "2      3                  China Construction Bank   \n",
      "3      4                            Bank of China   \n",
      "4      5                           JPMorgan Chase   \n",
      "..   ...                                      ...   \n",
      "95    96                            Handelsbanken   \n",
      "96    97                 Industrial Bank of Korea   \n",
      "97    98                                      DNB   \n",
      "98    99                      Qatar National Bank   \n",
      "99   100                  National Bank of Canada   \n",
      "\n",
      "    Total assets (2024) (US$ billion)  \n",
      "0                             6303.44  \n",
      "1                             5623.12  \n",
      "2                             5400.28  \n",
      "3                             4578.28  \n",
      "4                             4002.81  \n",
      "..                                ...  \n",
      "95                             351.79  \n",
      "96                             345.81  \n",
      "97                             339.21  \n",
      "98                             338.14  \n",
      "99                             337.65  \n",
      "\n",
      "[100 rows x 3 columns]\n"
     ]
    },
    {
     "name": "stderr",
     "output_type": "stream",
     "text": [
      "C:\\Users\\lenno\\AppData\\Local\\Temp\\ipykernel_1900\\37003878.py:15: FutureWarning: Passing literal html to 'read_html' is deprecated and will be removed in a future version. To read from a literal string, wrap it in a 'StringIO' object.\n",
      "  tables = pd.read_html(response.text)\n"
     ]
    }
   ],
   "source": [
    "import pandas as pd\n",
    "import requests\n",
    "\n",
    "URL = 'https://en.wikipedia.org/wiki/List_of_largest_banks'\n",
    "\n",
    "# request with headers\n",
    "headers = {\n",
    "    \"User-Agent\": \"Mozilla/5.0 (Windows NT 10.0; Win64; x64) \"\n",
    "                  \"AppleWebKit/537.36 (KHTML, like Gecko) \"\n",
    "                  \"Chrome/127.0.0.1 Safari/537.36\"\n",
    "}\n",
    "response = requests.get(URL, headers=headers)\n",
    "\n",
    "# parseamos el HTML con pandas\n",
    "tables = pd.read_html(response.text)\n",
    "df = tables[0]\n",
    "\n",
    "print(df)"
   ]
  },
  {
   "cell_type": "markdown",
   "id": "31c59e23-ac19-49b5-8fcb-b1fd61730cfa",
   "metadata": {},
   "source": [
    "### BeautifulSoup Objects"
   ]
  },
  {
   "cell_type": "code",
   "execution_count": 4,
   "id": "7b655d3f-2ffe-442e-b7c6-a0454723c616",
   "metadata": {},
   "outputs": [
    {
     "name": "stdout",
     "output_type": "stream",
     "text": [
      "Requirement already satisfied: bs4 in c:\\users\\lenno\\appdata\\local\\programs\\python\\python313\\lib\\site-packages (0.0.2)\n",
      "Requirement already satisfied: beautifulsoup4 in c:\\users\\lenno\\appdata\\local\\programs\\python\\python313\\lib\\site-packages (from bs4) (4.13.4)\n",
      "Requirement already satisfied: soupsieve>1.2 in c:\\users\\lenno\\appdata\\local\\programs\\python\\python313\\lib\\site-packages (from beautifulsoup4->bs4) (2.7)\n",
      "Requirement already satisfied: typing-extensions>=4.0.0 in c:\\users\\lenno\\appdata\\local\\programs\\python\\python313\\lib\\site-packages (from beautifulsoup4->bs4) (4.14.1)\n",
      "Requirement already satisfied: requests in c:\\users\\lenno\\appdata\\local\\programs\\python\\python313\\lib\\site-packages (2.32.4)\n",
      "Requirement already satisfied: pandas in c:\\users\\lenno\\appdata\\local\\programs\\python\\python313\\lib\\site-packages (2.3.2)\n",
      "Requirement already satisfied: charset_normalizer<4,>=2 in c:\\users\\lenno\\appdata\\local\\programs\\python\\python313\\lib\\site-packages (from requests) (3.4.2)\n",
      "Requirement already satisfied: idna<4,>=2.5 in c:\\users\\lenno\\appdata\\local\\programs\\python\\python313\\lib\\site-packages (from requests) (3.10)\n",
      "Requirement already satisfied: urllib3<3,>=1.21.1 in c:\\users\\lenno\\appdata\\local\\programs\\python\\python313\\lib\\site-packages (from requests) (2.5.0)\n",
      "Requirement already satisfied: certifi>=2017.4.17 in c:\\users\\lenno\\appdata\\local\\programs\\python\\python313\\lib\\site-packages (from requests) (2025.7.14)\n",
      "Requirement already satisfied: numpy>=1.26.0 in c:\\users\\lenno\\appdata\\local\\programs\\python\\python313\\lib\\site-packages (from pandas) (2.1.3)\n",
      "Requirement already satisfied: python-dateutil>=2.8.2 in c:\\users\\lenno\\appdata\\local\\programs\\python\\python313\\lib\\site-packages (from pandas) (2.9.0.post0)\n",
      "Requirement already satisfied: pytz>=2020.1 in c:\\users\\lenno\\appdata\\local\\programs\\python\\python313\\lib\\site-packages (from pandas) (2025.2)\n",
      "Requirement already satisfied: tzdata>=2022.7 in c:\\users\\lenno\\appdata\\local\\programs\\python\\python313\\lib\\site-packages (from pandas) (2025.2)\n",
      "Requirement already satisfied: six>=1.5 in c:\\users\\lenno\\appdata\\local\\programs\\python\\python313\\lib\\site-packages (from python-dateutil>=2.8.2->pandas) (1.17.0)\n"
     ]
    }
   ],
   "source": [
    "!pip install bs4\n",
    "!pip install requests pandas"
   ]
  },
  {
   "cell_type": "code",
   "execution_count": 5,
   "id": "903d2bb4-cfd9-4cf7-8a2a-56ac4f9b9c64",
   "metadata": {},
   "outputs": [],
   "source": [
    "from bs4 import BeautifulSoup\n",
    "import requests"
   ]
  },
  {
   "cell_type": "code",
   "execution_count": 6,
   "id": "b8086c06-fbbb-4106-879d-9a5864c76555",
   "metadata": {},
   "outputs": [
    {
     "ename": "SyntaxError",
     "evalue": "invalid syntax (3517537022.py, line 3)",
     "output_type": "error",
     "traceback": [
      "  \u001b[36mCell\u001b[39m\u001b[36m \u001b[39m\u001b[32mIn[6]\u001b[39m\u001b[32m, line 3\u001b[39m\n\u001b[31m    \u001b[39m\u001b[31m<!DOCTYPE html>\u001b[39m\n    ^\n\u001b[31mSyntaxError\u001b[39m\u001b[31m:\u001b[39m invalid syntax\n"
     ]
    }
   ],
   "source": [
    "# Considering this Html\n",
    "%%html\n",
    "<!DOCTYPE html>\n",
    "<html>\n",
    "<head>\n",
    "<title>Page Title</title>\n",
    "</head>\n",
    "<body>\n",
    "<h3><b id='boldest'>Lebron James</b></h3>\n",
    "<p> Salary: $ 92,000,000 </p>\n",
    "<h3> Stephen Curry</h3>\n",
    "<p> Salary: $85,000, 000 </p>\n",
    "<h3> Kevin Durant </h3>\n",
    "<p> Salary: $73,200, 000</p>\n",
    "</body>\n",
    "</html>"
   ]
  },
  {
   "cell_type": "code",
   "execution_count": 7,
   "id": "21a50864-125f-4893-a9a6-ba87a43d8eac",
   "metadata": {},
   "outputs": [],
   "source": [
    "# We can store it as a string in the variable HTML:\n",
    "html=\"<!DOCTYPE html><html><head><title>Page Title</title></head><body><h3><b id='boldest'>Lebron James</b></h3><p> Salary: $ 92,000,000 </p><h3> Stephen Curry</h3><p> Salary: $85,000, 000 </p><h3> Kevin Durant </h3><p> Salary: $73,200, 000</p></body></html>\""
   ]
  },
  {
   "cell_type": "code",
   "execution_count": 8,
   "id": "285c0670-d9c4-4460-b937-02e4941143de",
   "metadata": {},
   "outputs": [
    {
     "name": "stdout",
     "output_type": "stream",
     "text": [
      "<!DOCTYPE html>\n",
      "<html>\n",
      " <head>\n",
      "  <title>\n",
      "   Page Title\n",
      "  </title>\n",
      " </head>\n",
      " <body>\n",
      "  <h3>\n",
      "   <b id=\"boldest\">\n",
      "    Lebron James\n",
      "   </b>\n",
      "  </h3>\n",
      "  <p>\n",
      "   Salary: $ 92,000,000\n",
      "  </p>\n",
      "  <h3>\n",
      "   Stephen Curry\n",
      "  </h3>\n",
      "  <p>\n",
      "   Salary: $85,000, 000\n",
      "  </p>\n",
      "  <h3>\n",
      "   Kevin Durant\n",
      "  </h3>\n",
      "  <p>\n",
      "   Salary: $73,200, 000\n",
      "  </p>\n",
      " </body>\n",
      "</html>\n",
      "\n"
     ]
    }
   ],
   "source": [
    "#To parse a document, pass it into the BeautifulSoup constructor. The BeautifulSoup object represents the document as a nested data structure:\n",
    "soup = BeautifulSoup(html, 'html.parser')\n",
    "#First, the document is converted to Unicode (similar to ASCII) and HTML entities are converted to Unicode characters. Beautiful Soup transforms \n",
    "#a complex HTML document into a complex tree of Python objects. The BeautifulSoup object can create other types of \n",
    "#objects. In this lab, we will cover BeautifulSoup and Tag objects, that for the purposes of this lab are identical. \n",
    "#Finally, we will look at NavigableString objects.\n",
    "\n",
    "#We can use the method prettify() to display the HTML in the nested structure:\n",
    "print(soup.prettify())"
   ]
  },
  {
   "cell_type": "markdown",
   "id": "f1c3e5cf-a996-4ebd-9f85-a434206d0172",
   "metadata": {},
   "source": [
    "## Tags\n",
    "Let's say we want the title of the page and the name of the top paid player. We can use the Tag. The Tag object corresponds to an HTML tag in the original document, for example, the tag title."
   ]
  },
  {
   "cell_type": "code",
   "execution_count": 9,
   "id": "a994553c-d55f-4758-b2e3-735f79109da6",
   "metadata": {},
   "outputs": [
    {
     "name": "stdout",
     "output_type": "stream",
     "text": [
      "Tag object: <title>Page Title</title>\n"
     ]
    }
   ],
   "source": [
    "tag_object = soup.title\n",
    "print(\"Tag object:\", tag_object)"
   ]
  },
  {
   "cell_type": "code",
   "execution_count": 10,
   "id": "0d5cb2bc-4609-4601-8759-0b379a491857",
   "metadata": {},
   "outputs": [
    {
     "data": {
      "text/plain": [
       "<h3><b id=\"boldest\">Lebron James</b></h3>"
      ]
     },
     "execution_count": 10,
     "metadata": {},
     "output_type": "execute_result"
    }
   ],
   "source": [
    "tag_object=soup.h3\n",
    "tag_object\n"
   ]
  },
  {
   "cell_type": "markdown",
   "id": "b447b7cc-8e8a-4cd5-838c-8da0c285f378",
   "metadata": {},
   "source": [
    "### Children, Parents, Siblings"
   ]
  },
  {
   "cell_type": "markdown",
   "id": "742af0e7-8a02-4b8c-a8ff-44583aeb878f",
   "metadata": {},
   "source": [
    "The TAG object is a TREE ob objects.We can access de child of the tag or navigate down the branch as follow"
   ]
  },
  {
   "cell_type": "code",
   "execution_count": 11,
   "id": "d0b7c491-4c8c-48ea-88cb-ff4d804675c1",
   "metadata": {},
   "outputs": [
    {
     "data": {
      "text/plain": [
       "<b id=\"boldest\">Lebron James</b>"
      ]
     },
     "execution_count": 11,
     "metadata": {},
     "output_type": "execute_result"
    }
   ],
   "source": [
    "tag_child = tag_object.b\n",
    "tag_child"
   ]
  },
  {
   "cell_type": "code",
   "execution_count": 14,
   "id": "1ae9f321-2fcc-4a79-8580-0226c39a2140",
   "metadata": {},
   "outputs": [
    {
     "data": {
      "text/plain": [
       "<body><h3><b id=\"boldest\">Lebron James</b></h3><p> Salary: $ 92,000,000 </p><h3> Stephen Curry</h3><p> Salary: $85,000, 000 </p><h3> Kevin Durant </h3><p> Salary: $73,200, 000</p></body>"
      ]
     },
     "execution_count": 14,
     "metadata": {},
     "output_type": "execute_result"
    }
   ],
   "source": [
    "parent_tag = tag_child.parent\n",
    "parent_tag # this is identical to tag_object\n",
    "#tag_object parent is the body element\n",
    "tag_object.parent"
   ]
  },
  {
   "cell_type": "code",
   "execution_count": 17,
   "id": "5c61402b-be59-47fe-a705-7c5e1602dc0c",
   "metadata": {},
   "outputs": [
    {
     "data": {
      "text/plain": [
       "<p> Salary: $ 92,000,000 </p>"
      ]
     },
     "execution_count": 17,
     "metadata": {},
     "output_type": "execute_result"
    }
   ],
   "source": [
    "# tag_object simbling is the paragraph element\n",
    "sibling1=tag_object.next_sibling\n",
    "sibling1"
   ]
  },
  {
   "cell_type": "code",
   "execution_count": 25,
   "id": "b706e593-c111-4ab0-9678-c30c036af68b",
   "metadata": {},
   "outputs": [
    {
     "data": {
      "text/plain": [
       "<p> Salary: $85,000, 000 </p>"
      ]
     },
     "execution_count": 25,
     "metadata": {},
     "output_type": "execute_result"
    }
   ],
   "source": [
    "sibling2=sibling1.next_sibling\n",
    "sibling2\n",
    "sibling3=sibling2.next_sibling\n",
    "sibling3"
   ]
  },
  {
   "cell_type": "code",
   "execution_count": 38,
   "id": "8cb46249-bf9d-487a-88b8-2f5868d636a9",
   "metadata": {},
   "outputs": [
    {
     "name": "stdout",
     "output_type": "stream",
     "text": [
      "            name                salary\n",
      "0   Lebron James  Salary: $ 92,000,000\n",
      "1  Stephen Curry  Salary: $85,000, 000\n",
      "2   Kevin Durant  Salary: $73,200, 000\n",
      "            name    salary\n",
      "0   Lebron James  92000000\n",
      "1  Stephen Curry  85000000\n",
      "2   Kevin Durant  73200000\n"
     ]
    }
   ],
   "source": [
    "## Example made by Pablo Herrador\n",
    "import pandas as pd\n",
    "soup = BeautifulSoup(html, \"html.parser\")\n",
    "\n",
    "names = []\n",
    "salaries= []\n",
    "\n",
    "for h3 in soup.find_all(\"h3\"):\n",
    "    name = h3.get_text(strip=True)\n",
    "    salario_p = h3.find_next_sibling(\"p\")  # encuentra el siguiente <p> al mismo nivel\n",
    "    salary = salario_p.get_text(strip=True) if salario_p else None\n",
    "\n",
    "    names.append(name)\n",
    "    salaries.append(salary)\n",
    "\n",
    "data = pd.DataFrame({\"name\":names, \"salary\": salaries})\n",
    "print(data)\n",
    "\n",
    "import re # \"regular expressions\" library\n",
    "\n",
    "# clean df\n",
    "def clean_salary(s):\n",
    "    if s is None:\n",
    "        return None\n",
    "    # erase 'Salary: $' and \",\"\n",
    "    s_clean = re.sub(r'[^\\d]', '', s)  \n",
    "    return int(s_clean)\n",
    "\n",
    "\n",
    "data['salary'] = data['salary'].apply(clean_salary)\n",
    "\n",
    "print(data)\n"
   ]
  },
  {
   "cell_type": "markdown",
   "id": "b53062b0-4101-4ea2-b3e7-13c793516f65",
   "metadata": {},
   "source": [
    "### HTML Attributes"
   ]
  },
  {
   "cell_type": "markdown",
   "id": "0bf91960-f4dc-48bf-a1f3-d309c622fdbd",
   "metadata": {},
   "source": [
    "If the tag has attributes, the tag id=\"boldest\" has an attribute id whose value is boldest. You can access a tag’s attributes by treating the tag like a dictionary:"
   ]
  },
  {
   "cell_type": "code",
   "execution_count": 40,
   "id": "6917218f-5073-4881-b29b-5c8aefc370b0",
   "metadata": {},
   "outputs": [
    {
     "data": {
      "text/plain": [
       "'boldest'"
      ]
     },
     "execution_count": 40,
     "metadata": {},
     "output_type": "execute_result"
    }
   ],
   "source": [
    "tag_child[\"id\"]"
   ]
  },
  {
   "cell_type": "code",
   "execution_count": 41,
   "id": "921bdec1-94d2-4b1b-9a51-3ecd8da1fb11",
   "metadata": {},
   "outputs": [
    {
     "data": {
      "text/plain": [
       "{'id': 'boldest'}"
      ]
     },
     "execution_count": 41,
     "metadata": {},
     "output_type": "execute_result"
    }
   ],
   "source": [
    "tag_child.attrs"
   ]
  },
  {
   "cell_type": "code",
   "execution_count": 42,
   "id": "56ff996d-4018-49f7-a208-0d6a1c6a4a2d",
   "metadata": {},
   "outputs": [
    {
     "data": {
      "text/plain": [
       "'boldest'"
      ]
     },
     "execution_count": 42,
     "metadata": {},
     "output_type": "execute_result"
    }
   ],
   "source": [
    "tag_child.get(\"id\")"
   ]
  },
  {
   "cell_type": "markdown",
   "id": "17dd3e83-5a67-4f18-ad64-42594dc06e6d",
   "metadata": {},
   "source": [
    "### Navigable String"
   ]
  },
  {
   "cell_type": "markdown",
   "id": "82f4ffc8-5693-4b96-8c12-09946d24ac7b",
   "metadata": {},
   "source": [
    "A string corresponds to a bit of text or content within a tag. Beautiful Soup uses the NavigableString class to contain this text. In our HTML we can obtain the name of the first player by extracting the string of the Tag object tag_child as follows:"
   ]
  },
  {
   "cell_type": "code",
   "execution_count": 43,
   "id": "028432f0-7d9c-4662-938b-b811023b4586",
   "metadata": {},
   "outputs": [
    {
     "data": {
      "text/plain": [
       "'Lebron James'"
      ]
     },
     "execution_count": 43,
     "metadata": {},
     "output_type": "execute_result"
    }
   ],
   "source": [
    "tag_string = tag_child.string\n",
    "tag_string"
   ]
  },
  {
   "cell_type": "code",
   "execution_count": 44,
   "id": "2c3c0e9c-82f4-44e5-ac79-ed8a9aaf8b31",
   "metadata": {},
   "outputs": [
    {
     "data": {
      "text/plain": [
       "bs4.element.NavigableString"
      ]
     },
     "execution_count": 44,
     "metadata": {},
     "output_type": "execute_result"
    }
   ],
   "source": [
    "type(tag_string)"
   ]
  },
  {
   "cell_type": "markdown",
   "id": "34442692-7417-4674-a5b3-c37a5d80ee58",
   "metadata": {},
   "source": [
    "A NavigableString is similar to a Python string or Unicode string. To be more precise, the main difference is that it also supports some BeautifulSoup features. We can convert it to string object in Python:"
   ]
  },
  {
   "cell_type": "code",
   "execution_count": 45,
   "id": "fe1eddfe-222e-4a26-b699-c12fc9532afd",
   "metadata": {},
   "outputs": [
    {
     "data": {
      "text/plain": [
       "'Lebron James'"
      ]
     },
     "execution_count": 45,
     "metadata": {},
     "output_type": "execute_result"
    }
   ],
   "source": [
    "unicode_string = str(tag_string)\n",
    "unicode_string"
   ]
  },
  {
   "cell_type": "code",
   "execution_count": 46,
   "id": "f762d5e2-0ecc-457d-9981-a10d433aa3d9",
   "metadata": {},
   "outputs": [
    {
     "data": {
      "text/plain": [
       "str"
      ]
     },
     "execution_count": 46,
     "metadata": {},
     "output_type": "execute_result"
    }
   ],
   "source": [
    "type(unicode_string)"
   ]
  },
  {
   "cell_type": "markdown",
   "id": "655d6188-ccfb-46d2-a8c9-63731d53ed1e",
   "metadata": {},
   "source": [
    "### Filter"
   ]
  },
  {
   "cell_type": "markdown",
   "id": "16bbc34d-be00-417a-8cab-cb7fa5e97c0c",
   "metadata": {},
   "source": [
    "Filters allow you to find complex patterns, the simplest filter is a string. In this section we will pass a string to a different filter method and Beautiful Soup will perform a match against that exact string. Consider the following HTML of rocket launches:"
   ]
  },
  {
   "cell_type": "code",
   "execution_count": null,
   "id": "6b0fac0d-cfd5-455f-9a92-f3fba8343db1",
   "metadata": {},
   "outputs": [],
   "source": [
    "%%html\n",
    "<table>\n",
    "  <tr>\n",
    "    <td id='flight' >Flight No</td>\n",
    "    <td>Launch site</td> \n",
    "    <td>Payload mass</td>\n",
    "   </tr>\n",
    "  <tr> \n",
    "    <td>1</td>\n",
    "    <td><a href='https://en.wikipedia.org/wiki/Florida'>Florida</a></td>\n",
    "    <td>300 kg</td>\n",
    "  </tr>\n",
    "  <tr>\n",
    "    <td>2</td>\n",
    "    <td><a href='https://en.wikipedia.org/wiki/Texas'>Texas</a></td>\n",
    "    <td>94 kg</td>\n",
    "  </tr>\n",
    "  <tr>\n",
    "    <td>3</td>\n",
    "    <td><a href='https://en.wikipedia.org/wiki/Florida'>Florida<a> </td>\n",
    "    <td>80 kg</td>\n",
    "  </tr>\n",
    "</table>"
   ]
  },
  {
   "cell_type": "markdown",
   "id": "5eb03dd2-b653-46b2-b3c1-c59ed18fdace",
   "metadata": {},
   "source": [
    "We can store it as a string in the variable table:"
   ]
  },
  {
   "cell_type": "code",
   "execution_count": 51,
   "id": "bfb33f5d-9817-4308-9b03-d57feb88af73",
   "metadata": {},
   "outputs": [],
   "source": [
    "table=\"<table><tr><td id='flight'>Flight No</td><td>Launch site</td> <td>Payload mass</td></tr><tr> <td>1</td><td><a href='https://en.wikipedia.org/wiki/Florida'>Florida<a></td><td>300 kg</td></tr><tr><td>2</td><td><a href='https://en.wikipedia.org/wiki/Texas'>Texas</a></td><td>94 kg</td></tr><tr><td>3</td><td><a href='https://en.wikipedia.org/wiki/Florida'>Florida<a> </td><td>80 kg</td></tr></table>\""
   ]
  },
  {
   "cell_type": "code",
   "execution_count": 56,
   "id": "180c43c6-b5e7-437b-8b35-5d963c0d0dd8",
   "metadata": {},
   "outputs": [
    {
     "name": "stdout",
     "output_type": "stream",
     "text": [
      "<table>\n",
      " <tr>\n",
      "  <td id=\"flight\">\n",
      "   Flight No\n",
      "  </td>\n",
      "  <td>\n",
      "   Launch site\n",
      "  </td>\n",
      "  <td>\n",
      "   Payload mass\n",
      "  </td>\n",
      " </tr>\n",
      " <tr>\n",
      "  <td>\n",
      "   1\n",
      "  </td>\n",
      "  <td>\n",
      "   <a href=\"https://en.wikipedia.org/wiki/Florida\">\n",
      "    Florida\n",
      "    <a>\n",
      "    </a>\n",
      "   </a>\n",
      "  </td>\n",
      "  <td>\n",
      "   300 kg\n",
      "  </td>\n",
      " </tr>\n",
      " <tr>\n",
      "  <td>\n",
      "   2\n",
      "  </td>\n",
      "  <td>\n",
      "   <a href=\"https://en.wikipedia.org/wiki/Texas\">\n",
      "    Texas\n",
      "   </a>\n",
      "  </td>\n",
      "  <td>\n",
      "   94 kg\n",
      "  </td>\n",
      " </tr>\n",
      " <tr>\n",
      "  <td>\n",
      "   3\n",
      "  </td>\n",
      "  <td>\n",
      "   <a href=\"https://en.wikipedia.org/wiki/Florida\">\n",
      "    Florida\n",
      "    <a>\n",
      "    </a>\n",
      "   </a>\n",
      "  </td>\n",
      "  <td>\n",
      "   80 kg\n",
      "  </td>\n",
      " </tr>\n",
      "</table>\n",
      "\n"
     ]
    }
   ],
   "source": [
    "table_bs = BeautifulSoup(table, \"html.parser\")\n",
    "print(table_bs.prettify())"
   ]
  },
  {
   "cell_type": "markdown",
   "id": "8c14865b-1da8-4ce4-8ef9-e83bc7ceb31b",
   "metadata": {},
   "source": [
    "# Find All"
   ]
  },
  {
   "cell_type": "markdown",
   "id": "e8a3046e-0cd2-48fd-a892-6cace7f8063d",
   "metadata": {},
   "source": [
    "The find_all() method looks through a tag’s descendants and retrieves all descendants that match your filters.\n",
    "\n",
    "The Method signature for find_all(name, attrs, recursive, string, limit, **kwargs)"
   ]
  },
  {
   "cell_type": "markdown",
   "id": "c1ea901e-bff1-4411-bb5d-9d278fe22dc7",
   "metadata": {},
   "source": [
    "### Name"
   ]
  },
  {
   "cell_type": "markdown",
   "id": "a972b975-35ac-4f64-a634-49f4cdaff333",
   "metadata": {},
   "source": [
    "When we set the name parameter to a tag name, the method will extract all the tags with that name and its children."
   ]
  },
  {
   "cell_type": "code",
   "execution_count": 61,
   "id": "e46d88df-7bd0-4289-87db-36ea96f21758",
   "metadata": {},
   "outputs": [
    {
     "data": {
      "text/plain": [
       "[<tr><td id=\"flight\">Flight No</td><td>Launch site</td> <td>Payload mass</td></tr>,\n",
       " <tr> <td>1</td><td><a href=\"https://en.wikipedia.org/wiki/Florida\">Florida<a></a></a></td><td>300 kg</td></tr>,\n",
       " <tr><td>2</td><td><a href=\"https://en.wikipedia.org/wiki/Texas\">Texas</a></td><td>94 kg</td></tr>,\n",
       " <tr><td>3</td><td><a href=\"https://en.wikipedia.org/wiki/Florida\">Florida<a> </a></a></td><td>80 kg</td></tr>]"
      ]
     },
     "execution_count": 61,
     "metadata": {},
     "output_type": "execute_result"
    }
   ],
   "source": [
    "table_row = table_bs.find_all('tr')\n",
    "table_row"
   ]
  },
  {
   "cell_type": "code",
   "execution_count": 69,
   "id": "1a99fdc5-2d5f-4e9c-89c7-68f731e78da1",
   "metadata": {},
   "outputs": [
    {
     "name": "stdout",
     "output_type": "stream",
     "text": [
      "Row 0 in table_row: <tr><td id=\"flight\">Flight No</td><td>Launch site</td> <td>Payload mass</td></tr>\n",
      "Row 1 in table_row: <tr> <td>1</td><td><a href=\"https://en.wikipedia.org/wiki/Florida\">Florida<a></a></a></td><td>300 kg</td></tr>\n",
      "Row 2 in table_row: <tr><td>2</td><td><a href=\"https://en.wikipedia.org/wiki/Texas\">Texas</a></td><td>94 kg</td></tr>\n",
      "Row 3 in table_row: <tr><td>3</td><td><a href=\"https://en.wikipedia.org/wiki/Florida\">Florida<a> </a></a></td><td>80 kg</td></tr>\n"
     ]
    },
    {
     "data": {
      "text/plain": [
       "bs4.element.Tag"
      ]
     },
     "execution_count": 69,
     "metadata": {},
     "output_type": "execute_result"
    }
   ],
   "source": [
    "for i in range(0,4):\n",
    "    print(f\"Row {i} in table_row:\", table_row[i])\n",
    "type(table_row[0])"
   ]
  },
  {
   "cell_type": "code",
   "execution_count": 75,
   "id": "f6f580c6-ea6d-4817-adbb-a8759f32b42f",
   "metadata": {},
   "outputs": [
    {
     "data": {
      "text/plain": [
       "<td><a href=\"https://en.wikipedia.org/wiki/Florida\">Florida<a></a></a></td>"
      ]
     },
     "execution_count": 75,
     "metadata": {},
     "output_type": "execute_result"
    }
   ],
   "source": [
    "# we can obtain the child\n",
    "tbl_r0_child = table_row[1].td\n",
    "tbl_r0_child.next_sibling\n"
   ]
  },
  {
   "cell_type": "code",
   "execution_count": 79,
   "id": "8c3a386f-4620-4634-8e51-d56580003b5d",
   "metadata": {},
   "outputs": [
    {
     "name": "stdout",
     "output_type": "stream",
     "text": [
      "row 0\n",
      "colunm 0 cell <td id=\"flight\">Flight No</td>\n",
      "colunm 1 cell <td>Launch site</td>\n",
      "colunm 2 cell <td>Payload mass</td>\n",
      "row 1\n",
      "colunm 0 cell <td>1</td>\n",
      "colunm 1 cell <td><a href=\"https://en.wikipedia.org/wiki/Florida\">Florida<a></a></a></td>\n",
      "colunm 2 cell <td>300 kg</td>\n",
      "row 2\n",
      "colunm 0 cell <td>2</td>\n",
      "colunm 1 cell <td><a href=\"https://en.wikipedia.org/wiki/Texas\">Texas</a></td>\n",
      "colunm 2 cell <td>94 kg</td>\n",
      "row 3\n",
      "colunm 0 cell <td>3</td>\n",
      "colunm 1 cell <td><a href=\"https://en.wikipedia.org/wiki/Florida\">Florida<a> </a></a></td>\n",
      "colunm 2 cell <td>80 kg</td>\n"
     ]
    }
   ],
   "source": [
    "for i,row in enumerate(table_row):\n",
    "    print(\"row\",i)\n",
    "    cells = row.find_all('td')\n",
    "    for j, cell in enumerate(cells):\n",
    "        print('colunm',j,\"cell\",cell)"
   ]
  },
  {
   "cell_type": "markdown",
   "id": "972c9619-54b7-4a34-9af3-2f2f1434f718",
   "metadata": {},
   "source": [
    "## Atributes"
   ]
  },
  {
   "cell_type": "markdown",
   "id": "60903fb0-a245-40d3-8105-68a2e6e73425",
   "metadata": {},
   "source": [
    "If the argument is not recognized it will be turned into a filter on the tag’s attributes. For example with the id argument, Beautiful Soup will filter against each tag’s id attribute. For example, the first td elements have a value of id of flight, therefore we can filter based on that id value."
   ]
  },
  {
   "cell_type": "code",
   "execution_count": 80,
   "id": "5c1cf951-10cd-4881-9424-7334704dfe97",
   "metadata": {},
   "outputs": [
    {
     "data": {
      "text/plain": [
       "[<td id=\"flight\">Flight No</td>]"
      ]
     },
     "execution_count": 80,
     "metadata": {},
     "output_type": "execute_result"
    }
   ],
   "source": [
    "table_bs.find_all(id=\"flight\")"
   ]
  },
  {
   "cell_type": "code",
   "execution_count": 81,
   "id": "cbf01aa0-c11e-40f1-be77-37b6ea9d5bf6",
   "metadata": {},
   "outputs": [
    {
     "data": {
      "text/plain": [
       "[<a href=\"https://en.wikipedia.org/wiki/Florida\">Florida<a></a></a>,\n",
       " <a href=\"https://en.wikipedia.org/wiki/Florida\">Florida<a> </a></a>]"
      ]
     },
     "execution_count": 81,
     "metadata": {},
     "output_type": "execute_result"
    }
   ],
   "source": [
    "list_input=table_bs.find_all(href=\"https://en.wikipedia.org/wiki/Florida\")\n",
    "list_input"
   ]
  },
  {
   "cell_type": "code",
   "execution_count": 82,
   "id": "545d725e-c7cc-4ac8-b57e-1ec29641bfe5",
   "metadata": {},
   "outputs": [
    {
     "data": {
      "text/plain": [
       "[<a href=\"https://en.wikipedia.org/wiki/Florida\">Florida<a></a></a>,\n",
       " <a href=\"https://en.wikipedia.org/wiki/Texas\">Texas</a>,\n",
       " <a href=\"https://en.wikipedia.org/wiki/Florida\">Florida<a> </a></a>]"
      ]
     },
     "execution_count": 82,
     "metadata": {},
     "output_type": "execute_result"
    }
   ],
   "source": [
    "table_bs.find_all(href=True)"
   ]
  },
  {
   "cell_type": "markdown",
   "id": "579315e1-d8a8-450e-9bfe-790bf0fca9b8",
   "metadata": {},
   "source": [
    "# Exercises"
   ]
  },
  {
   "cell_type": "markdown",
   "id": "ccbffa71-5c31-4f68-9d72-eff28568ac21",
   "metadata": {},
   "source": [
    "### find_all()"
   ]
  },
  {
   "cell_type": "markdown",
   "id": "a678fa7e-8af6-4e3b-b80e-335a3ac5b578",
   "metadata": {},
   "source": [
    "Find all the `<a>` tags without <code>href</code> value "
   ]
  },
  {
   "cell_type": "code",
   "execution_count": 99,
   "id": "429053ec-9b52-41d7-ae6c-cf643c7eec9a",
   "metadata": {},
   "outputs": [],
   "source": [
    "anchors_without_href = table_bs.find_all(\"a\", href=False)"
   ]
  },
  {
   "cell_type": "code",
   "execution_count": 86,
   "id": "267fc77c-b102-4554-8d9a-9d54a3bdd6b4",
   "metadata": {},
   "outputs": [
    {
     "data": {
      "text/plain": [
       "[<a></a>, <a> </a>]"
      ]
     },
     "execution_count": 86,
     "metadata": {},
     "output_type": "execute_result"
    }
   ],
   "source": [
    "table_bs.find_all(lambda tag: tag.name == \"a\" and not tag.has_attr(\"href\"))"
   ]
  },
  {
   "cell_type": "markdown",
   "id": "8870914b-d487-4d4f-9b2c-92ef9fefa35c",
   "metadata": {},
   "source": [
    "Find all the elements that do not contain any links"
   ]
  },
  {
   "cell_type": "code",
   "execution_count": 103,
   "id": "de0438a7-8427-4372-8047-4a70deedbbaa",
   "metadata": {},
   "outputs": [
    {
     "data": {
      "text/plain": [
       "[<tr><td id=\"flight\">Flight No</td><td>Launch site</td> <td>Payload mass</td></tr>,\n",
       " <td id=\"flight\">Flight No</td>,\n",
       " <td>Launch site</td>,\n",
       " <td>Payload mass</td>,\n",
       " <td>1</td>,\n",
       " <td>300 kg</td>,\n",
       " <td>2</td>,\n",
       " <td>94 kg</td>,\n",
       " <td>3</td>,\n",
       " <td>80 kg</td>]"
      ]
     },
     "execution_count": 103,
     "metadata": {},
     "output_type": "execute_result"
    }
   ],
   "source": [
    "table_bs.find_all(lambda tag: tag.name != \"a\" and not tag.find('a'))"
   ]
  },
  {
   "cell_type": "markdown",
   "id": "9582b467-3978-4bcf-b524-a611839b7c79",
   "metadata": {},
   "source": [
    "With string you can search for strings instead of tags, where we find all the elments with Florida:"
   ]
  },
  {
   "cell_type": "code",
   "execution_count": 112,
   "id": "5344bdad-00ce-4abb-b892-2988c540817d",
   "metadata": {},
   "outputs": [
    {
     "data": {
      "text/plain": [
       "['Florida', 'Florida']"
      ]
     },
     "execution_count": 112,
     "metadata": {},
     "output_type": "execute_result"
    }
   ],
   "source": [
    "table_bs.find_all(string=\"Florida\")"
   ]
  },
  {
   "cell_type": "markdown",
   "id": "0a4045eb-a00d-4893-8ed9-7fda21be8009",
   "metadata": {},
   "source": [
    "### Lets go again"
   ]
  },
  {
   "cell_type": "code",
   "execution_count": null,
   "id": "d3cd884b-547e-4aea-803a-a1697f849483",
   "metadata": {},
   "outputs": [],
   "source": [
    "%%html\n",
    "<h3>Rocket Launch </h3>\n",
    "\n",
    "<p>\n",
    "<table class='rocket'>\n",
    "  <tr>\n",
    "    <td>Flight No</td>\n",
    "    <td>Launch site</td> \n",
    "    <td>Payload mass</td>\n",
    "  </tr>\n",
    "  <tr>\n",
    "    <td>1</td>\n",
    "    <td>Florida</td>\n",
    "    <td>300 kg</td>\n",
    "  </tr>\n",
    "  <tr>\n",
    "    <td>2</td>\n",
    "    <td>Texas</td>\n",
    "    <td>94 kg</td>\n",
    "  </tr>\n",
    "  <tr>\n",
    "    <td>3</td>\n",
    "    <td>Florida </td>\n",
    "    <td>80 kg</td>\n",
    "  </tr>\n",
    "</table>\n",
    "</p>\n",
    "<p>\n",
    "\n",
    "<h3>Pizza Party  </h3>\n",
    "  \n",
    "    \n",
    "<table class='pizza'>\n",
    "  <tr>\n",
    "    <td>Pizza Place</td>\n",
    "    <td>Orders</td> \n",
    "    <td>Slices </td>\n",
    "   </tr>\n",
    "  <tr>\n",
    "    <td>Domino's Pizza</td>\n",
    "    <td>10</td>\n",
    "    <td>100</td>\n",
    "  </tr>\n",
    "  <tr>\n",
    "    <td>Little Caesars</td>\n",
    "    <td>12</td>\n",
    "    <td >144 </td>\n",
    "  </tr>\n",
    "  <tr>\n",
    "    <td>Papa John's </td>\n",
    "    <td>15 </td>\n",
    "    <td>165</td>\n",
    "  </tr>\n"
   ]
  },
  {
   "cell_type": "code",
   "execution_count": 134,
   "id": "8e90c9a8-74ea-44bb-8b53-1229cb29e9ed",
   "metadata": {},
   "outputs": [
    {
     "data": {
      "text/plain": [
       "[<tr><td>Flight No</td><td>Launch site</td> <td>Payload mass</td></tr>,\n",
       " <tr><td>1</td><td>Florida</td><td>300 kg</td></tr>,\n",
       " <tr><td>2</td><td>Texas</td><td>94 kg</td></tr>,\n",
       " <tr><td>3</td><td>Florida </td><td>80 kg</td></tr>]"
      ]
     },
     "execution_count": 134,
     "metadata": {},
     "output_type": "execute_result"
    }
   ],
   "source": [
    "html=\"<h3>Rocket Launch </h3><p><table class='rocket'><tr><td>Flight No</td><td>Launch site</td> <td>Payload mass</td></tr><tr><td>1</td><td>Florida</td><td>300 kg</td></tr><tr><td>2</td><td>Texas</td><td>94 kg</td></tr><tr><td>3</td><td>Florida </td><td>80 kg</td></tr></table></p><p><h3>Pizza Party  </h3><table class='pizza'><tr><td>Pizza Place</td><td>Orders</td> <td>Slices </td></tr><tr><td>Domino's Pizza</td><td>10</td><td>100</td></tr><tr><td>Little Caesars</td><td>12</td><td >144 </td></tr><tr><td>Papa John's </td><td>15 </td><td>165</td></tr>\"\n",
    "html_bs = BeautifulSoup(html, \"html.parser\")\n",
    "html_bs.find_all(\"table\", class_ = \"pizza\")\n",
    "table = html_bs.table\n",
    "table.contents\n"
   ]
  },
  {
   "cell_type": "markdown",
   "id": "95266024-edb8-475f-ade8-85e3a516e21c",
   "metadata": {},
   "source": [
    "# Downloading And Scraping The Contents Of A Web Page"
   ]
  },
  {
   "cell_type": "code",
   "execution_count": 140,
   "id": "91d4aa24-55bf-4322-bf3b-37b2f4182583",
   "metadata": {},
   "outputs": [],
   "source": [
    "import requests\n",
    "url = \"https://www.ibm.com\"\n",
    "data = requests.get(url).text #we download in text format\n",
    "soup = BeautifulSoup(data, \"html.parser\")"
   ]
  },
  {
   "cell_type": "markdown",
   "id": "af4a8b90-1e4b-4fa1-9af6-5e11a2652a27",
   "metadata": {},
   "source": [
    "### Scrape all links"
   ]
  },
  {
   "cell_type": "code",
   "execution_count": 142,
   "id": "cf9c07da-4c5a-4683-abf0-2e6acaa12c9f",
   "metadata": {},
   "outputs": [
    {
     "name": "stdout",
     "output_type": "stream",
     "text": [
      "https://www.ibm.com/sports/usopen?lnk=hpls1us\n",
      "https://www.ibm.com/think/insights/lets-create-smarter-business?lnk=hpls2us\n",
      "https://www.ibm.com/think/insights/scale-ai-agents-business?lnk=hprc1us\n",
      "https://www.ibm.com/solutions/ipaas?lnk=hprc2us\n",
      "https://www.ibm.com/campaign/data-and-ai-trust?lnk=hprc3us\n",
      "https://www.ibm.com/thought-leadership/institute-business-value/report/quantum-safe?lnk=hprc4us\n",
      "https://www.ibm.com/community/ibm-techxchange-conference/?lnk=hpdev1us\n",
      "https://github.com/ibm-granite-community/granite-snack-cookbook?lnk=hpdev2us\n",
      "https://developer.ibm.com/technologies/artificial-intelligence/?lnk=hpdev3us\n",
      "https://www.ibm.com/products/watsonx-governance?OT=AITrustWeek&lnk=hpdev4us\n",
      "https://www.ibm.com/new/announcements/openai-s-open-source-models-available-on-ibm-watsonx-ai?lnk=hpdev5us\n",
      "https://research.ibm.com/blog/granite-vision-ocr-leaderboard?lnk=hpdev6us\n",
      "https://www.ibm.com/new/announcements/governing-ai-with-confidence-our-journey-with-watsonx-governance?lnk=hpdev7us\n",
      "https://www.ibm.com/products/watsonx-code-assistant/pricing?lnk=hpdev8us\n",
      "https://www.ibm.com/products/offers-and-discounts?lnk=hpdo1us\n",
      "https://www.ibm.com/software?lnk=hpfp1us\n",
      "https://www.ibm.com/solutions/ai-agents?lnk=hpfp2us\n",
      "https://www.ibm.com/solutions/data-and-ai?lnk=hpfp3us\n",
      "https://www.ibm.com/solutions/automation?lnk=hpfp4us\n",
      "https://www.ibm.com/solutions/hybrid-cloud?lnk=hpfp5us\n",
      "https://www.ibm.com/solutions/ai-models?lnk=hpfp6us\n",
      "https://www.ibm.com/solutions/analytics?lnk=hpfp7us\n",
      "https://www.ibm.com/solutions/security?lnk=hpfp8us\n",
      "https://www.ibm.com/consulting?lnk=hpfp9us\n",
      "https://www.ibm.com/about?lnk=hpii1us\n",
      "https://www.ibm.com/history?lnk=hpii1us\n",
      "https://research.ibm.com?lnk=hpii1us\n",
      "https://www.ibm.com/quantum?lnk=hpii1us\n",
      "https://www.ibm.com/careers?lnk=hpii1us\n",
      "https://skillsbuild.org?lnk=hpii1us\n"
     ]
    }
   ],
   "source": [
    "for link in soup.find_all('a',href=True):\n",
    "    print(link.get('href'))"
   ]
  },
  {
   "cell_type": "markdown",
   "id": "4bc81458-85a0-45c3-9a63-6b9f22c1d24e",
   "metadata": {},
   "source": [
    "## Scrape all images tags"
   ]
  },
  {
   "cell_type": "code",
   "execution_count": 143,
   "id": "5d552236-dd8d-45b4-a90f-3fcd7c01bf51",
   "metadata": {},
   "outputs": [
    {
     "name": "stdout",
     "output_type": "stream",
     "text": [
      "<img alt=\"Two hands scaling a square with AI pictogram\" class=\"cmp-image__image\" height=\"1271\" itemprop=\"contentUrl\" loading=\"lazy\" src=\"https://assets.ibm.com/is/image/ibm/api-connect-data-fabric?ts=1757005554058&amp;dpr=off\" srcset=\"data:image/gif;base64,R0lGODlhAQABAAAAACH5BAEKAAEALAAAAAABAAEAAAICTAEAOw==\" width=\"1271\"/>\n",
      "https://assets.ibm.com/is/image/ibm/api-connect-data-fabric?ts=1757005554058&dpr=off\n",
      "<img alt=\"Technical illustration to represent how to best scale and accelerate the impact of AI through watsonx.data\" class=\"cmp-image__image\" height=\"3139\" itemprop=\"contentUrl\" loading=\"lazy\" src=\"https://assets.ibm.com/is/image/ibm/watsonx-data-technical-illustration-grey10-web-guidebook?ts=1757005562484&amp;dpr=off\" srcset=\"data:image/gif;base64,R0lGODlhAQABAAAAACH5BAEKAAEALAAAAAABAAEAAAICTAEAOw==\" title=\"Abstract tech illustration with geometric cubes\" width=\"3660\"/>\n",
      "https://assets.ibm.com/is/image/ibm/watsonx-data-technical-illustration-grey10-web-guidebook?ts=1757005562484&dpr=off\n",
      "<img alt=\"Various forms of data\" class=\"cmp-image__image\" height=\"3840\" itemprop=\"contentUrl\" loading=\"lazy\" src=\"https://assets.ibm.com/is/image/ibm/data-security-ai?ts=1757005554704&amp;dpr=off\" srcset=\"data:image/gif;base64,R0lGODlhAQABAAAAACH5BAEKAAEALAAAAAABAAEAAAICTAEAOw==\" title=\"Colorful icon grid with diverse visuals\" width=\"3840\"/>\n",
      "https://assets.ibm.com/is/image/ibm/data-security-ai?ts=1757005554704&dpr=off\n",
      "<img alt=\"IBM Quantum Safe Hero\" class=\"cmp-image__image\" height=\"2160\" itemprop=\"contentUrl\" loading=\"lazy\" src=\"https://assets.ibm.com/is/image/ibm/ibm_quantum_safe_4k_hero_05?ts=1757005558742&amp;dpr=off\" srcset=\"data:image/gif;base64,R0lGODlhAQABAAAAACH5BAEKAAEALAAAAAABAAEAAAICTAEAOw==\" width=\"3840\"/>\n",
      "https://assets.ibm.com/is/image/ibm/ibm_quantum_safe_4k_hero_05?ts=1757005558742&dpr=off\n",
      "<img alt=\"Big Blue for You promotional banner\" class=\"cmp-image__image\" height=\"1601\" itemprop=\"contentUrl\" loading=\"lazy\" src=\"https://assets.ibm.com/is/image/ibm/big-blue-for-you-promo?ts=1757005566811&amp;dpr=off\" srcset=\"data:image/gif;base64,R0lGODlhAQABAAAAACH5BAEKAAEALAAAAAABAAEAAAICTAEAOw==\" width=\"3840\"/>\n",
      "https://assets.ibm.com/is/image/ibm/big-blue-for-you-promo?ts=1757005566811&dpr=off\n",
      "<img class=\"cmp-image__image\" height=\"2560\" itemprop=\"contentUrl\" loading=\"lazy\" src=\"https://assets.ibm.com/is/image/ibm/202502_ibm_z-inside_ibm_tp_day_02_4888?ts=1757005574212&amp;dpr=off\" srcset=\"data:image/gif;base64,R0lGODlhAQABAAAAACH5BAEKAAEALAAAAAABAAEAAAICTAEAOw==\" width=\"3840\"/>\n",
      "https://assets.ibm.com/is/image/ibm/202502_ibm_z-inside_ibm_tp_day_02_4888?ts=1757005574212&dpr=off\n"
     ]
    }
   ],
   "source": [
    "for link in soup.find_all('img'):# in html image is represented by the tag <img>\n",
    "    print(link)\n",
    "    print(link.get('src'))"
   ]
  },
  {
   "cell_type": "markdown",
   "id": "2750404d-0d8b-4c0a-9450-0b5b790cf6bc",
   "metadata": {},
   "source": [
    "## Scrape Data from HTML tables"
   ]
  },
  {
   "cell_type": "code",
   "execution_count": 150,
   "id": "2b877a43-e7cc-4455-ae18-d2b0286156ac",
   "metadata": {},
   "outputs": [],
   "source": [
    "url = \"https://cf-courses-data.s3.us.cloud-object-storage.appdomain.cloud/IBM-DA0321EN-SkillsNetwork/labs/datasets/HTMLColorCodes.html\"\n",
    "data = requests.get(url).text\n",
    "soup = BeautifulSoup(data, \"html.parser\")"
   ]
  },
  {
   "cell_type": "code",
   "execution_count": 151,
   "id": "1f8f44f0-fc00-4824-ad96-ffd920a6e2ed",
   "metadata": {},
   "outputs": [],
   "source": [
    "table = soup.find('table') # in html table is represented by the tag <table>"
   ]
  },
  {
   "cell_type": "code",
   "execution_count": 152,
   "id": "a569980b-dbc5-4c51-a76f-971e62b07d03",
   "metadata": {},
   "outputs": [
    {
     "name": "stdout",
     "output_type": "stream",
     "text": [
      "Color Name--->None\n",
      "lightsalmon--->#FFA07A\n",
      "salmon--->#FA8072\n",
      "darksalmon--->#E9967A\n",
      "lightcoral--->#F08080\n",
      "coral--->#FF7F50\n",
      "tomato--->#FF6347\n",
      "orangered--->#FF4500\n",
      "gold--->#FFD700\n",
      "orange--->#FFA500\n",
      "darkorange--->#FF8C00\n",
      "lightyellow--->#FFFFE0\n",
      "lemonchiffon--->#FFFACD\n",
      "papayawhip--->#FFEFD5\n",
      "moccasin--->#FFE4B5\n",
      "peachpuff--->#FFDAB9\n",
      "palegoldenrod--->#EEE8AA\n",
      "khaki--->#F0E68C\n",
      "darkkhaki--->#BDB76B\n",
      "yellow--->#FFFF00\n",
      "lawngreen--->#7CFC00\n",
      "chartreuse--->#7FFF00\n",
      "limegreen--->#32CD32\n",
      "lime--->#00FF00\n",
      "forestgreen--->#228B22\n",
      "green--->#008000\n",
      "powderblue--->#B0E0E6\n",
      "lightblue--->#ADD8E6\n",
      "lightskyblue--->#87CEFA\n",
      "skyblue--->#87CEEB\n",
      "deepskyblue--->#00BFFF\n",
      "lightsteelblue--->#B0C4DE\n",
      "dodgerblue--->#1E90FF\n"
     ]
    }
   ],
   "source": [
    "#Get all rows from the table\n",
    "for row in table.find_all('tr'): # in html table row is represented by the tag <tr>\n",
    "    # Get all columns in each row.\n",
    "    cols = row.find_all('td') # in html a column is represented by the tag <td>\n",
    "    color_name = cols[2].string # store the value in column 3 as color_name\n",
    "    color_code = cols[3].string # store the value in column 4 as color_code\n",
    "    print(\"{}--->{}\".format(color_name,color_code))"
   ]
  }
 ],
 "metadata": {
  "kernelspec": {
   "display_name": "Python 3 (ipykernel)",
   "language": "python",
   "name": "python3"
  },
  "language_info": {
   "codemirror_mode": {
    "name": "ipython",
    "version": 3
   },
   "file_extension": ".py",
   "mimetype": "text/x-python",
   "name": "python",
   "nbconvert_exporter": "python",
   "pygments_lexer": "ipython3",
   "version": "3.13.1"
  }
 },
 "nbformat": 4,
 "nbformat_minor": 5
}
