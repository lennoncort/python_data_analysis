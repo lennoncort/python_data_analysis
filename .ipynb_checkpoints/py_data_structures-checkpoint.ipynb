{
 "cells": [
  {
   "cell_type": "code",
   "execution_count": null,
   "id": "50a7fb81-ac28-466c-a5fe-856e48687aa5",
   "metadata": {},
   "outputs": [],
   "source": [
    "#Change typer\n",
    "float(2):2.0\n",
    "int(1.1):1\n",
    "int(\"1\"):1\n",
    "\n",
    "#Boolean: true or false valuees:\n",
    "type(True):bool"
   ]
  },
  {
   "cell_type": "code",
   "execution_count": 25,
   "id": "5b5da36e-5dc8-4c6a-adba-f475a37a172a",
   "metadata": {},
   "outputs": [
    {
     "name": "stdout",
     "output_type": "stream",
     "text": [
      "My name is ('Pablo', 'Juan', 'Aleberto', 'Sofía', 'Anastasio', 'Geriberta') and I am (28, 29, 30, 31, 32, 33) years old\n"
     ]
    }
   ],
   "source": [
    "name = \"Pablo\",\"Juan\",\"Aleberto\",\"Sofía\",\"Anastasio\",\"Geriberta\"\n",
    "age = 28,29,30,31,32,33\n",
    "print(f\"My name is {name} and I am {age} years old\")"
   ]
  },
  {
   "cell_type": "code",
   "execution_count": null,
   "id": "4b1f4850-c8fd-4b79-99ed-4b963cd9d710",
   "metadata": {},
   "outputs": [],
   "source": [
    "for n,a in zip(name,age):\n",
    "    print(f\"My name is {n} and I am {a} years old\")\n",
    "    "
   ]
  },
  {
   "cell_type": "code",
   "execution_count": null,
   "id": "af247f5b-cca4-4c4c-85f2-f85bfe95c76c",
   "metadata": {},
   "outputs": [],
   "source": [
    "x=10\n",
    "y=20\n",
    "print(f\"The sum of {x} and {y} is {x+y}\")"
   ]
  },
  {
   "cell_type": "code",
   "execution_count": null,
   "id": "4f622d78-bfb9-4c66-a89a-23073c75c295",
   "metadata": {},
   "outputs": [],
   "source": [
    "regular_string = r\"C:\\new_folder\\file.txt\"\n",
    "print(\"Regular String:\", regular_string)"
   ]
  },
  {
   "cell_type": "code",
   "execution_count": null,
   "id": "38c69e80-2b3e-4ec1-8131-bb96f96157dd",
   "metadata": {},
   "outputs": [],
   "source": [
    "\"helloMike\".find(\"Mike\")"
   ]
  },
  {
   "cell_type": "code",
   "execution_count": null,
   "id": "c82110b6-03b8-4f42-8429-211f2d3b7479",
   "metadata": {},
   "outputs": [],
   "source": [
    "article_title=\"data science basics\"\n",
    "article_title.proper()"
   ]
  },
  {
   "cell_type": "code",
   "execution_count": null,
   "id": "b2cd2e0d-d7c7-482c-90e9-12cb0ad938aa",
   "metadata": {},
   "outputs": [],
   "source": [
    "print(\"Python is \\\"awesome\\\"\")"
   ]
  },
  {
   "cell_type": "code",
   "execution_count": 53,
   "id": "facfc1c1-332a-47b4-8731-cc9d5b5fec9d",
   "metadata": {},
   "outputs": [
    {
     "data": {
      "text/plain": [
       "'12345'"
      ]
     },
     "execution_count": 53,
     "metadata": {},
     "output_type": "execute_result"
    }
   ],
   "source": [
    "product_code = \"ABC-12345-XYZ\"\n",
    "product_code[4:-4]"
   ]
  },
  {
   "cell_type": "code",
   "execution_count": null,
   "id": "023efdaa-826d-4bd7-b600-c2de0caade0a",
   "metadata": {},
   "outputs": [],
   "source": [
    "test_name = \"Cuanto mas probables es un suceso, menos informacion aporta al sistema\"\n",
    "test_name.find(\"suceso\")\n",
    "test_name[26:33]"
   ]
  },
  {
   "cell_type": "code",
   "execution_count": null,
   "id": "5e738885-ad9e-4910-8f1f-d6cd6fcf6703",
   "metadata": {},
   "outputs": [],
   "source": [
    "words_1 = \"Pepe\", \"Enrique\", \"Alberto\"\n",
    "words_2 = \"rojo\", \"azul\", \"amarillo\"\n",
    "print(f\"Mi primo {words_1[0]} se compró un coche {words_2[0]}\")\n",
    "\n",
    "for n,c in zip(words_1,words_2):\n",
    "    print(f\"Mi primo {n} se compró un coche {c}\")\n",
    "    "
   ]
  },
  {
   "cell_type": "code",
   "execution_count": null,
   "id": "398ce4a3-d81e-4ff4-8ceb-aa580fc7e7da",
   "metadata": {},
   "outputs": [],
   "source": [
    "a = (\"str\", 1, 2.3, False)\n",
    "for n in a:\n",
    "    print(f\"The element {n} of a is a {type(n)}\")"
   ]
  },
  {
   "cell_type": "code",
   "execution_count": null,
   "id": "0ed48c30-a036-4d46-863f-10b75b32ee4d",
   "metadata": {},
   "outputs": [],
   "source": [
    "b=(\"My phone is broken\")\n",
    "len(b)\n",
    "b.replace(b[12:18], \"new\")"
   ]
  },
  {
   "cell_type": "code",
   "execution_count": null,
   "id": "e45dcdd2-c2d1-44a6-b47b-31e6db7025e8",
   "metadata": {},
   "outputs": [],
   "source": [
    "tuple1=(5,9,2,1,6,3,4,4,8,32,95,-8)\n",
    "t_sorted = sorted(tuple1)\n",
    "t_sorted"
   ]
  },
  {
   "cell_type": "code",
   "execution_count": 61,
   "id": "3eaaac9d-730c-4d2c-9f9a-a04852392c12",
   "metadata": {},
   "outputs": [
    {
     "ename": "TypeError",
     "evalue": "'tuple' object does not support item assignment",
     "output_type": "error",
     "traceback": [
      "\u001b[31m---------------------------------------------------------------------------\u001b[39m",
      "\u001b[31mTypeError\u001b[39m                                 Traceback (most recent call last)",
      "\u001b[36mCell\u001b[39m\u001b[36m \u001b[39m\u001b[32mIn[61]\u001b[39m\u001b[32m, line 10\u001b[39m\n\u001b[32m      7\u001b[39m nest_1 = (tuple_1, tuple_2, tuple_3, tuple_4, tuple_5)\n\u001b[32m      8\u001b[39m nest_1[\u001b[32m2\u001b[39m][\u001b[32m1\u001b[39m]\n\u001b[32m---> \u001b[39m\u001b[32m10\u001b[39m \u001b[43mnest_1\u001b[49m\u001b[43m[\u001b[49m\u001b[32;43m1\u001b[39;49m\u001b[43m]\u001b[49m = \u001b[33m\"\u001b[39m\u001b[33mchange\u001b[39m\u001b[33m\"\u001b[39m  \u001b[38;5;66;03m#INCORRECT, TUPLES ARE UNMUTABLE\u001b[39;00m\n",
      "\u001b[31mTypeError\u001b[39m: 'tuple' object does not support item assignment"
     ]
    }
   ],
   "source": [
    "tuple_1 = 1\n",
    "tuple_2 = 2\n",
    "tuple_3 = (\"pop\", \"rock\")\n",
    "tuple_4 = (3,4)\n",
    "tuple_5 = (\"disco\", (1,2))\n",
    "\n",
    "nest_1 = (tuple_1, tuple_2, tuple_3, tuple_4, tuple_5)\n",
    "nest_1[2][1]\n",
    "\n",
    "nest_1[1] = \"change\"  #INCORRECT, TUPLES ARE UNMUTABLE"
   ]
  },
  {
   "cell_type": "code",
   "execution_count": null,
   "id": "61a6438d-f82b-46f7-94e1-09c87d544bac",
   "metadata": {},
   "outputs": [],
   "source": [
    "#LISTS\n",
    "\n",
    "list_1 = [tuple_1, tuple_2, tuple_3, tuple_4, tuple_5]\n",
    "list_1[1] = \"change\"\n",
    "list_1\n",
    "del(list_1[1])\n",
    "list_1"
   ]
  },
  {
   "cell_type": "code",
   "execution_count": null,
   "id": "0de76498-ecb7-4eaa-8fa4-79af83ed37ab",
   "metadata": {},
   "outputs": [],
   "source": [
    "a = \"Me voy a la playa de vacaciones\"\n",
    "a\n",
    "b = a.split()\n",
    "b\n",
    "D = \"A;B,C;D.E;F\".split(\";\")\n",
    "F = D[:]\n",
    "F"
   ]
  },
  {
   "cell_type": "code",
   "execution_count": 84,
   "id": "3eca8237-a737-4cf3-9eb0-5186c77ebe5f",
   "metadata": {},
   "outputs": [
    {
     "data": {
      "text/plain": [
       "['The Bodyguard', 7.0, ['pop', 10]]"
      ]
     },
     "execution_count": 84,
     "metadata": {},
     "output_type": "execute_result"
    }
   ],
   "source": [
    "L = [ \"The Bodyguard\", 7.0]\n",
    "L.append(['pop', 10])\n",
    "L"
   ]
  },
  {
   "cell_type": "code",
   "execution_count": null,
   "id": "6fababa9-bf79-4ae4-af43-6d1c6bbcb6e9",
   "metadata": {},
   "outputs": [],
   "source": [
    "car = [\"ford\", \"toyota\", \"audi\", \"seat\"]\n",
    "sales = [200, 345, 34, 195]\n",
    "reports = [56, 89, 74, 23]\n",
    "rating = [4, 5, 2.8, 3.6]\n",
    "most_selled_color = [(\"silver\", \"blue\"), (\"white\",\"green\"), (\"black\",\"grey\"), (\"red\",\"yellow\")]\n",
    "\n",
    "L = [car,sales]\n",
    "L.extend([rating,most_selled_color])\n",
    "\n",
    "L"
   ]
  },
  {
   "cell_type": "code",
   "execution_count": null,
   "id": "c0105c90-5c1c-4c91-ba72-2e20a72d6d7c",
   "metadata": {},
   "outputs": [],
   "source": [
    "A = [1,2,3]+[1,1,1]\n",
    "A.append([4,4,4])\n",
    "A\n",
    "len(A)"
   ]
  },
  {
   "cell_type": "code",
   "execution_count": null,
   "id": "f6972534-1f8d-4175-89af-3e912ca3862b",
   "metadata": {},
   "outputs": [],
   "source": [
    "C=[1,2,3,\n",
    "   4,5,6,\n",
    "   7,8,9]\n",
    "C"
   ]
  },
  {
   "cell_type": "code",
   "execution_count": 180,
   "id": "5c915dd1-b6f9-4e6c-95c0-d786192fe454",
   "metadata": {},
   "outputs": [
    {
     "name": "stdout",
     "output_type": "stream",
     "text": [
      "[1, 1, 1, 1, 1, 0, 0, 0, 0, 0]\n"
     ]
    },
    {
     "data": {
      "text/plain": [
       "{0, 1}"
      ]
     },
     "execution_count": 180,
     "metadata": {},
     "output_type": "execute_result"
    }
   ],
   "source": [
    "D = {\"key1\":1,\"key2\":[2.0,3,4.4],\"key3\":\"nine\",\"key4\":(1,2),('key5'):5}\n",
    "F=[]\n",
    "for i in range(1,11):\n",
    "    F.append(int(f\"key{i}\" in D))\n",
    "print(F)\n",
    "set_F=set(F)\n",
    "set_F\n"
   ]
  },
  {
   "cell_type": "code",
   "execution_count": null,
   "id": "16f46401-5199-41f3-bcf8-e72851c08475",
   "metadata": {},
   "outputs": [],
   "source": [
    "D = {\"key1\":1,\"key2\":[2.0,3,4.4],\"key3\":\"nine\",\"key4\":(1,2),('key5'):5}\n",
    "E=[]\n",
    "for i in range(1,6):\n",
    "    E.append(1 in D[f\"key{i}\"])\n",
    "print(E)"
   ]
  },
  {
   "cell_type": "code",
   "execution_count": null,
   "id": "f8cf99eb-c891-43d5-9b02-b36de36325d9",
   "metadata": {},
   "outputs": [],
   "source": [
    "D={\"a\":1,\"d\":2,\"c\":3}\n",
    "D.extend({\"d\":1,\"e\":1,\"f\":1})\n",
    "D"
   ]
  },
  {
   "cell_type": "code",
   "execution_count": null,
   "id": "b03adab0-6d7d-41b1-8bcb-bdbde1c62987",
   "metadata": {},
   "outputs": [],
   "source": [
    "Dict={\"A\":1,\"B\":\"2\",\"C\":[3,3,3],\"D\":(4,4,4),'E':5,'F':6}\n",
    "Dict[\"D\"]"
   ]
  },
  {
   "cell_type": "code",
   "execution_count": null,
   "id": "81c810f5-0a15-4270-bcf1-ab6eea965bc9",
   "metadata": {},
   "outputs": [],
   "source": [
    "list(Dict.keys())"
   ]
  },
  {
   "cell_type": "code",
   "execution_count": 217,
   "id": "d5722994-66ef-4347-987c-69954d4accc5",
   "metadata": {},
   "outputs": [
    {
     "data": {
      "text/plain": [
       "[1, 'dos', 3, [1, 2]]"
      ]
     },
     "execution_count": 217,
     "metadata": {},
     "output_type": "execute_result"
    }
   ],
   "source": [
    "A=[1,\"dos\",3]\n",
    "A.append([1,2])\n",
    "A"
   ]
  },
  {
   "cell_type": "code",
   "execution_count": null,
   "id": "b44e472c-3af0-4f68-aabd-77d3719e6707",
   "metadata": {},
   "outputs": [],
   "source": [
    "set1={\"pop\",\"rock\",\"grunge\",\"pop\",\"blues\",\"grunge\"}\n",
    "set2={12,2,3,4,2,2,5,5,6,7}\n",
    "print(set1,set2)"
   ]
  },
  {
   "cell_type": "code",
   "execution_count": null,
   "id": "6e3a2c45-b96a-4160-94dc-0406e96f5bb7",
   "metadata": {},
   "outputs": [],
   "source": [
    "set1.add(3)\n",
    "set1"
   ]
  },
  {
   "cell_type": "code",
   "execution_count": null,
   "id": "8a2df7f3-3c5c-4f84-94aa-0b98460a88fa",
   "metadata": {},
   "outputs": [],
   "source": [
    "set1.remove(3)\n",
    "set1"
   ]
  },
  {
   "cell_type": "code",
   "execution_count": null,
   "id": "aa78eead-6ef4-42c6-902a-1ea6c432f36b",
   "metadata": {},
   "outputs": [],
   "source": [
    "print(3 in set1, \"pop\" in set1)"
   ]
  },
  {
   "cell_type": "code",
   "execution_count": 193,
   "id": "06477daf-860b-45e5-bc99-ad91fae5fdd2",
   "metadata": {},
   "outputs": [
    {
     "name": "stdout",
     "output_type": "stream",
     "text": [
      "{1, 2, 4, 6, 8, 9, 10, 'cinco', 'tres', 'siete'}\n",
      "{'uno', 2, 4, 'nueve', 6, 8, 10, 'cinco', 'tres', 'siete'}\n",
      "{2, 4, 6, 8, 10, 'cinco', 'tres', 'siete'}\n",
      "True False True\n"
     ]
    }
   ],
   "source": [
    "A={1,2,\"tres\",4,\"cinco\",6,\"siete\",8,9,10}\n",
    "B={\"uno\",2,\"tres\",4,\"cinco\",6,\"siete\",8,\"nueve\",10}\n",
    "print(A)\n",
    "print(B)\n",
    "print(A&B)\n",
    "C=A&B\n",
    "C\n",
    "print(C.issubset(A),B.issubset(A),A.issubset(A))"
   ]
  },
  {
   "cell_type": "code",
   "execution_count": null,
   "id": "63151b0e-c694-422f-bd86-828e630356a7",
   "metadata": {},
   "outputs": [],
   "source": [
    "print(A.difference(B))\n",
    "print(B.difference(A))"
   ]
  },
  {
   "cell_type": "code",
   "execution_count": null,
   "id": "576a1b35-f557-4b11-a80e-a4b53d019cc8",
   "metadata": {},
   "outputs": [],
   "source": [
    "c=A.intersection(B)\n",
    "print(c,C)\n",
    "c.union(C)"
   ]
  },
  {
   "cell_type": "code",
   "execution_count": 234,
   "id": "5caf244e-a8ac-428f-861b-0c620fb40e8d",
   "metadata": {},
   "outputs": [
    {
     "data": {
      "text/plain": [
       "{1, 2, 3}"
      ]
     },
     "execution_count": 234,
     "metadata": {},
     "output_type": "execute_result"
    }
   ],
   "source": [
    "set1 = {1,2}\n",
    "set1.add(3)\n",
    "set1"
   ]
  },
  {
   "cell_type": "code",
   "execution_count": null,
   "id": "b41b8254-8eee-4e00-aeca-6bab2ea72c70",
   "metadata": {},
   "outputs": [],
   "source": [
    "default_attributes = [\"warrior\", 100, 50, 10]\n",
    "player_attributes=default_attributes[:]\n",
    "player_attributes\n",
    "player_attributes[1]=150\n",
    "default_attributes"
   ]
  },
  {
   "cell_type": "code",
   "execution_count": null,
   "id": "1742cd78-9897-4552-a2f2-dd15b22a9890",
   "metadata": {},
   "outputs": [],
   "source": [
    "Dict={\"A\":1,\"B\":\"2\",\"C\":[3,3,3],\"D\":(4,4,4),'E':5,'F':6}\n",
    "Dict.values()"
   ]
  },
  {
   "cell_type": "code",
   "execution_count": null,
   "id": "4cf267be-9e07-4c18-9afd-887e46ffa89f",
   "metadata": {},
   "outputs": [],
   "source": [
    "tupla=((1.5,2.7),[3.6,4.1])\n",
    "tupla[1]"
   ]
  },
  {
   "cell_type": "code",
   "execution_count": null,
   "id": "113b6c41-f80b-470f-98b5-70011bdeefcd",
   "metadata": {},
   "outputs": [],
   "source": [
    "a=(1,2,3,4,5,6,7,8,9)\n",
    "b=[]\n",
    "c=5\n",
    "for i in a:\n",
    "    if (c>i):\n",
    "        print(f\"estamos aun por debajo, en concreto en {i}\")\n",
    "    else:\n",
    "        print(f\"superamos el limite de {i}\")\n",
    "    \n",
    "    \n",
    "    d = int(c>i)\n",
    "    b.append(d)\n",
    "print(b)\n",
    "    "
   ]
  },
  {
   "cell_type": "code",
   "execution_count": 269,
   "id": "c64956be-ff38-4174-a519-36e1abe96ea8",
   "metadata": {},
   "outputs": [
    {
     "name": "stdout",
     "output_type": "stream",
     "text": [
      "True True False True\n",
      "True False False False\n"
     ]
    }
   ],
   "source": [
    "a = True\n",
    "b = False\n",
    "print(a or a, a or b, b or b, b or a)\n",
    "print(a and a, a and b, b and b, b and a)\n",
    "\n"
   ]
  },
  {
   "cell_type": "code",
   "execution_count": 290,
   "id": "9ff8da04-261f-4a29-a89e-9a0f39b174a0",
   "metadata": {},
   "outputs": [
    {
     "data": {
      "text/plain": [
       "range(0, 5)"
      ]
     },
     "execution_count": 290,
     "metadata": {},
     "output_type": "execute_result"
    }
   ],
   "source": [
    "a = range(0,5,1)\n",
    "a"
   ]
  },
  {
   "cell_type": "code",
   "execution_count": null,
   "id": "dc0240bf-3874-40a2-b0fd-2aa038d8ae1c",
   "metadata": {},
   "outputs": [],
   "source": [
    "list1 = [1,2,3,4,5,6,7,8,9]\n",
    "list2 = []\n",
    "for a in list1:\n",
    "    if a >= 5:\n",
    "        list2.append(1)\n",
    "    else:\n",
    "        list2.append(a)\n",
    "print(list2)"
   ]
  },
  {
   "cell_type": "code",
   "execution_count": null,
   "id": "45f82bab-83ae-41d5-a6a4-1c9b787e57a2",
   "metadata": {},
   "outputs": [],
   "source": [
    "squares = [\"red\", \"yellow\", \"green\", \"purple\"]\n",
    "print(f\"This is the original list of squares:\", squares)\n",
    "for i in range(len(squares)):\n",
    "    squares[i]=\"white\"\n",
    "print(f\"This is the result of the loop at the list: \", squares)"
   ]
  },
  {
   "cell_type": "code",
   "execution_count": null,
   "id": "107a400b-8316-436d-8831-a22c79d60cdd",
   "metadata": {},
   "outputs": [],
   "source": [
    "list1 = [1,2,3,4,5,6,7,8,9]\n",
    "list2 = []\n",
    "i=0\n",
    "while list1[i]<=5:\n",
    "    list2.append(list1[i])\n",
    "    i=i+1\n",
    "print(list2)"
   ]
  }
 ],
 "metadata": {
  "kernelspec": {
   "display_name": "Python 3 (ipykernel)",
   "language": "python",
   "name": "python3"
  },
  "language_info": {
   "codemirror_mode": {
    "name": "ipython",
    "version": 3
   },
   "file_extension": ".py",
   "mimetype": "text/x-python",
   "name": "python",
   "nbconvert_exporter": "python",
   "pygments_lexer": "ipython3",
   "version": "3.13.1"
  }
 },
 "nbformat": 4,
 "nbformat_minor": 5
}
