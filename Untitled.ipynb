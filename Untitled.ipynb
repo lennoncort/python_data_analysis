{
 "cells": [
  {
   "cell_type": "markdown",
   "id": "905f763c-09c5-4111-b321-d6086e8184f8",
   "metadata": {},
   "source": [
    "# WebScraping little project"
   ]
  },
  {
   "cell_type": "code",
   "execution_count": null,
   "id": "e46d40ec-ee0f-424a-9b4b-c7dfb0b2b9d6",
   "metadata": {},
   "outputs": [],
   "source": [
    "## Made by Pablo Herrador 10/09/2025 (d/m/y)"
   ]
  },
  {
   "cell_type": "markdown",
   "id": "c8d78a0b-9437-4675-8f69-12580ef1e26d",
   "metadata": {},
   "source": [
    "## Project Scenario:\n",
    "An international firm that is looking to expand its business in different countries across the world has recruited you. You have been hired as a junior Data Engineer and are tasked with creating a script that can extract the list of the top 10 largest economies of the world in descending order of their GDPs in Billion USD (rounded to 2 decimal places), as logged by the International Monetary Fund (IMF).\n",
    "\n",
    "The required data seems to be available on the URL mentioned below:\n",
    "\n",
    "URL: https://web.archive.org/web/20230902185326/https://en.wikipedia.org/wiki/List_of_countries_by_GDP_%28nominal%29"
   ]
  },
  {
   "cell_type": "code",
   "execution_count": 10,
   "id": "5838d14d-e621-4bbb-9279-10115508411c",
   "metadata": {},
   "outputs": [],
   "source": [
    "import pandas as pd\n",
    "import requests\n",
    "from io import StringIO  # Needed for wrapping the HTML"
   ]
  },
  {
   "cell_type": "markdown",
   "id": "fd60744c-50dd-4c23-8175-f9125919a5b4",
   "metadata": {},
   "source": [
    "### Pandas"
   ]
  },
  {
   "cell_type": "code",
   "execution_count": 24,
   "id": "0b914a94-02e4-4d2c-8e13-603ba71e2e88",
   "metadata": {},
   "outputs": [
    {
     "name": "stdout",
     "output_type": "stream",
     "text": [
      "There are 7 tables.\n",
      "\n",
      "Table 0\n",
      "                                                   0\n",
      "0  Largest economies in the world by GDP (nominal...\n",
      "----------------------------------------\n",
      "Table 1\n",
      "                                                   0  \\\n",
      "0  > $20 trillion $10–20 trillion $5–10 trillion ...   \n",
      "\n",
      "                                                   1  \\\n",
      "0  $750 billion – $1 trillion $500–750 billion $2...   \n",
      "\n",
      "                                                   2  \n",
      "0  $50–100 billion $25–50 billion $5–25 billion <...  \n",
      "----------------------------------------\n",
      "Table 2\n",
      "  Country/Territory UN region IMF[1][13]            World Bank[14]             \\\n",
      "  Country/Territory UN region   Estimate       Year       Estimate       Year   \n",
      "0             World         —  105568776       2023      100562011       2022   \n",
      "1     United States  Americas   26854599       2023       25462700       2022   \n",
      "2             China      Asia   19373586  [n 1]2023       17963171  [n 3]2022   \n",
      "\n",
      "  United Nations[15]             \n",
      "            Estimate       Year  \n",
      "0           96698005       2021  \n",
      "1           23315081       2021  \n",
      "2           17734131  [n 1]2021  \n",
      "----------------------------------------\n",
      "Table 3\n",
      "  vteLists of countries by financial rankings  \\\n",
      "0                                       Trade   \n",
      "1                                  Investment   \n",
      "2                                       Funds   \n",
      "\n",
      "       vteLists of countries by financial rankings.1  \n",
      "0  Account balance % of GDP Exports by product me...  \n",
      "1                   FDI received past FDI abroad GFI  \n",
      "2  Forex reserves Forex reserves (ex. gold) Gold ...  \n",
      "----------------------------------------\n",
      "Table 4\n",
      "  vteLists of countries by GDP rankings  \\\n",
      "0                               Nominal   \n",
      "1         Purchasing power parity (PPP)   \n",
      "2                           Growth rate   \n",
      "\n",
      "             vteLists of countries by GDP rankings.1  \n",
      "0  Per capita Past and projected per capita Secto...  \n",
      "1  Per capita Past per capita Past and projected ...  \n",
      "2  African countries Asian states European Union ...  \n",
      "----------------------------------------\n",
      "Table 5\n",
      "             vteEconomic classification of countries  \\\n",
      "0  Developed country Developing country Least dev...   \n",
      "1                                  Three-World Model   \n",
      "2                       Gross domestic product (GDP)   \n",
      "\n",
      "           vteEconomic classification of countries.1  \n",
      "0  Developed country Developing country Least dev...  \n",
      "1  First World Second World Third World Fourth World  \n",
      "2  Nominal By country past and projected per capi...  \n",
      "----------------------------------------\n",
      "Table 6\n",
      "                               0  \\\n",
      "0                        Nominal   \n",
      "1  Purchasing power parity (PPP)   \n",
      "\n",
      "                                                   1  \n",
      "0  By country past and projected per capita per c...  \n",
      "1  By country future estimates per capita per cap...  \n",
      "----------------------------------------\n",
      "Could not automatically find a GDP table\n"
     ]
    }
   ],
   "source": [
    "url = \"https://web.archive.org/web/20230902185326/https://en.wikipedia.org/wiki/List_of_countries_by_GDP_%28nominal%29\"\n",
    "response = requests.get(url)\n",
    "\n",
    "# Now we are gonna get the tables from the url using pandas\n",
    "if response.status_code == 200:\n",
    "    #Wrap HTML text in StringIO to avoid warning\n",
    "    html_data = StringIO(response.text)\n",
    "    tables = pd.read_html(html_data)\n",
    "    print(f\"There are {len(tables)} tables.\\n\")\n",
    "    # Now that we know how many tables we have, we are going to check them and choose the one we are interested in, in this case, GDP\n",
    "    gdp_table = None\n",
    "    for i, table in enumerate(tables:\n",
    "        print(f\"Table {i}\")\n",
    "        print(table.head(3)) # we show the firs 3 rows\n",
    "        print(\"-\" * 40)\n",
    "\n",
    "        # To pick the correct table:\n",
    "        for c in table.columns:\n",
    "            cols = [str(c).lower()]\n",
    "            if 'country' in cols and any('gdp' in c for c in cols):\n",
    "                gdp_table = table\n",
    "    if gdp_table is not None:\n",
    "        print(\"\\n Selected GDP table:\")\n",
    "        print(gdp_table.head())\n",
    "        gdp_table.to_csv(\"gdp_table.csv\", index = false)\n",
    "        print(\"GDP table saved as gdp_table.csv\")\n",
    "    else:\n",
    "        print(\"Could not automatically find a GDP table\")\n",
    "else:\n",
    "    print(\"Something went wrong :( :\", response.status_code)\n",
    "    "
   ]
  },
  {
   "cell_type": "code",
   "execution_count": null,
   "id": "986e92cc-1fe0-4bb2-8343-1fcf5b049991",
   "metadata": {},
   "outputs": [],
   "source": []
  },
  {
   "cell_type": "markdown",
   "id": "6367d917-8b5a-4d98-8669-9de9cc74f459",
   "metadata": {},
   "source": [
    "We can see that it hasn't been possible to find the table automatially but we can see that is the table to whi we are interested in"
   ]
  },
  {
   "cell_type": "code",
   "execution_count": 25,
   "id": "e3c5e22b-1f00-4715-b596-bbe6f9cd67bc",
   "metadata": {},
   "outputs": [
    {
     "name": "stdout",
     "output_type": "stream",
     "text": [
      "    Country/Territory UN region IMF[1][13]            World Bank[14]  \\\n",
      "    Country/Territory UN region   Estimate       Year       Estimate   \n",
      "0               World         —  105568776       2023      100562011   \n",
      "1       United States  Americas   26854599       2023       25462700   \n",
      "2               China      Asia   19373586  [n 1]2023       17963171   \n",
      "3               Japan      Asia    4409738       2023        4231141   \n",
      "4             Germany    Europe    4308854       2023        4072192   \n",
      "..                ...       ...        ...        ...            ...   \n",
      "209          Anguilla  Americas          —          —              —   \n",
      "210          Kiribati   Oceania        248       2023            223   \n",
      "211             Nauru   Oceania        151       2023            151   \n",
      "212        Montserrat  Americas          —          —              —   \n",
      "213            Tuvalu   Oceania         65       2023             60   \n",
      "\n",
      "               United Nations[15]             \n",
      "          Year           Estimate       Year  \n",
      "0         2022           96698005       2021  \n",
      "1         2022           23315081       2021  \n",
      "2    [n 3]2022           17734131  [n 1]2021  \n",
      "3         2022            4940878       2021  \n",
      "4         2022            4259935       2021  \n",
      "..         ...                ...        ...  \n",
      "209          —                303       2021  \n",
      "210       2022                227       2021  \n",
      "211       2022                155       2021  \n",
      "212          —                 72       2021  \n",
      "213       2022                 60       2021  \n",
      "\n",
      "[214 rows x 8 columns]\n",
      "GDP table saved as gdp_table.csv\n"
     ]
    }
   ],
   "source": [
    "html_data = StringIO(response.text)\n",
    "table = pd.read_html(html_data)\n",
    "gdp_table = table[2]\n",
    "type(gdp_table)\n",
    "print(gdp_table)\n",
    "gdp_table.to_csv(\"gdp_table.csv\", index = False)\n",
    "print(\"GDP table saved as gdp_table.csv\")\n"
   ]
  },
  {
   "cell_type": "markdown",
   "id": "8f1e50be-d63b-4af9-abf3-d755508cf735",
   "metadata": {
    "jp-MarkdownHeadingCollapsed": true
   },
   "source": [
    "### Beautiful Soup (has to be fixed)"
   ]
  },
  {
   "cell_type": "code",
   "execution_count": 59,
   "id": "e19ba97a-8046-4862-9123-e562cba59948",
   "metadata": {},
   "outputs": [
    {
     "ename": "ValueError",
     "evalue": "5 columns passed, passed data had 8 columns",
     "output_type": "error",
     "traceback": [
      "\u001b[31m---------------------------------------------------------------------------\u001b[39m",
      "\u001b[31mAssertionError\u001b[39m                            Traceback (most recent call last)",
      "\u001b[36mFile \u001b[39m\u001b[32m~\\AppData\\Local\\Programs\\Python\\Python313\\Lib\\site-packages\\pandas\\core\\internals\\construction.py:939\u001b[39m, in \u001b[36m_finalize_columns_and_data\u001b[39m\u001b[34m(content, columns, dtype)\u001b[39m\n\u001b[32m    938\u001b[39m \u001b[38;5;28;01mtry\u001b[39;00m:\n\u001b[32m--> \u001b[39m\u001b[32m939\u001b[39m     columns = \u001b[43m_validate_or_indexify_columns\u001b[49m\u001b[43m(\u001b[49m\u001b[43mcontents\u001b[49m\u001b[43m,\u001b[49m\u001b[43m \u001b[49m\u001b[43mcolumns\u001b[49m\u001b[43m)\u001b[49m\n\u001b[32m    940\u001b[39m \u001b[38;5;28;01mexcept\u001b[39;00m \u001b[38;5;167;01mAssertionError\u001b[39;00m \u001b[38;5;28;01mas\u001b[39;00m err:\n\u001b[32m    941\u001b[39m     \u001b[38;5;66;03m# GH#26429 do not raise user-facing AssertionError\u001b[39;00m\n",
      "\u001b[36mFile \u001b[39m\u001b[32m~\\AppData\\Local\\Programs\\Python\\Python313\\Lib\\site-packages\\pandas\\core\\internals\\construction.py:986\u001b[39m, in \u001b[36m_validate_or_indexify_columns\u001b[39m\u001b[34m(content, columns)\u001b[39m\n\u001b[32m    984\u001b[39m \u001b[38;5;28;01mif\u001b[39;00m \u001b[38;5;129;01mnot\u001b[39;00m is_mi_list \u001b[38;5;129;01mand\u001b[39;00m \u001b[38;5;28mlen\u001b[39m(columns) != \u001b[38;5;28mlen\u001b[39m(content):  \u001b[38;5;66;03m# pragma: no cover\u001b[39;00m\n\u001b[32m    985\u001b[39m     \u001b[38;5;66;03m# caller's responsibility to check for this...\u001b[39;00m\n\u001b[32m--> \u001b[39m\u001b[32m986\u001b[39m     \u001b[38;5;28;01mraise\u001b[39;00m \u001b[38;5;167;01mAssertionError\u001b[39;00m(\n\u001b[32m    987\u001b[39m         \u001b[33mf\u001b[39m\u001b[33m\"\u001b[39m\u001b[38;5;132;01m{\u001b[39;00m\u001b[38;5;28mlen\u001b[39m(columns)\u001b[38;5;132;01m}\u001b[39;00m\u001b[33m columns passed, passed data had \u001b[39m\u001b[33m\"\u001b[39m\n\u001b[32m    988\u001b[39m         \u001b[33mf\u001b[39m\u001b[33m\"\u001b[39m\u001b[38;5;132;01m{\u001b[39;00m\u001b[38;5;28mlen\u001b[39m(content)\u001b[38;5;132;01m}\u001b[39;00m\u001b[33m columns\u001b[39m\u001b[33m\"\u001b[39m\n\u001b[32m    989\u001b[39m     )\n\u001b[32m    990\u001b[39m \u001b[38;5;28;01mif\u001b[39;00m is_mi_list:\n\u001b[32m    991\u001b[39m     \u001b[38;5;66;03m# check if nested list column, length of each sub-list should be equal\u001b[39;00m\n",
      "\u001b[31mAssertionError\u001b[39m: 5 columns passed, passed data had 8 columns",
      "\nThe above exception was the direct cause of the following exception:\n",
      "\u001b[31mValueError\u001b[39m                                Traceback (most recent call last)",
      "\u001b[36mCell\u001b[39m\u001b[36m \u001b[39m\u001b[32mIn[59]\u001b[39m\u001b[32m, line 19\u001b[39m\n\u001b[32m     17\u001b[39m     row_data = [cell.get_text(strip=\u001b[38;5;28;01mTrue\u001b[39;00m) \u001b[38;5;28;01mfor\u001b[39;00m cell \u001b[38;5;129;01min\u001b[39;00m cells]\n\u001b[32m     18\u001b[39m     table_data.append(row_data)\n\u001b[32m---> \u001b[39m\u001b[32m19\u001b[39m gdp_table = \u001b[43mpd\u001b[49m\u001b[43m.\u001b[49m\u001b[43mDataFrame\u001b[49m\u001b[43m(\u001b[49m\u001b[43mtable_data\u001b[49m\u001b[43m[\u001b[49m\u001b[32;43m1\u001b[39;49m\u001b[43m:\u001b[49m\u001b[43m]\u001b[49m\u001b[43m,\u001b[49m\u001b[43m \u001b[49m\u001b[43mcolumns\u001b[49m\u001b[43m=\u001b[49m\u001b[43mtable_data\u001b[49m\u001b[43m[\u001b[49m\u001b[32;43m0\u001b[39;49m\u001b[43m]\u001b[49m\u001b[43m)\u001b[49m  \u001b[38;5;66;03m# first row as a header\u001b[39;00m\n\u001b[32m     21\u001b[39m     \u001b[38;5;66;03m# save as a CSV\u001b[39;00m\n\u001b[32m     22\u001b[39m gdp_table.to_csv(\u001b[33m\"\u001b[39m\u001b[33mgdp_table_bs.csv\u001b[39m\u001b[33m\"\u001b[39m, index=\u001b[38;5;28;01mFalse\u001b[39;00m)\n",
      "\u001b[36mFile \u001b[39m\u001b[32m~\\AppData\\Local\\Programs\\Python\\Python313\\Lib\\site-packages\\pandas\\core\\frame.py:851\u001b[39m, in \u001b[36mDataFrame.__init__\u001b[39m\u001b[34m(self, data, index, columns, dtype, copy)\u001b[39m\n\u001b[32m    849\u001b[39m     \u001b[38;5;28;01mif\u001b[39;00m columns \u001b[38;5;129;01mis\u001b[39;00m \u001b[38;5;129;01mnot\u001b[39;00m \u001b[38;5;28;01mNone\u001b[39;00m:\n\u001b[32m    850\u001b[39m         columns = ensure_index(columns)\n\u001b[32m--> \u001b[39m\u001b[32m851\u001b[39m     arrays, columns, index = \u001b[43mnested_data_to_arrays\u001b[49m\u001b[43m(\u001b[49m\n\u001b[32m    852\u001b[39m \u001b[43m        \u001b[49m\u001b[38;5;66;43;03m# error: Argument 3 to \"nested_data_to_arrays\" has incompatible\u001b[39;49;00m\n\u001b[32m    853\u001b[39m \u001b[43m        \u001b[49m\u001b[38;5;66;43;03m# type \"Optional[Collection[Any]]\"; expected \"Optional[Index]\"\u001b[39;49;00m\n\u001b[32m    854\u001b[39m \u001b[43m        \u001b[49m\u001b[43mdata\u001b[49m\u001b[43m,\u001b[49m\n\u001b[32m    855\u001b[39m \u001b[43m        \u001b[49m\u001b[43mcolumns\u001b[49m\u001b[43m,\u001b[49m\n\u001b[32m    856\u001b[39m \u001b[43m        \u001b[49m\u001b[43mindex\u001b[49m\u001b[43m,\u001b[49m\u001b[43m  \u001b[49m\u001b[38;5;66;43;03m# type: ignore[arg-type]\u001b[39;49;00m\n\u001b[32m    857\u001b[39m \u001b[43m        \u001b[49m\u001b[43mdtype\u001b[49m\u001b[43m,\u001b[49m\n\u001b[32m    858\u001b[39m \u001b[43m    \u001b[49m\u001b[43m)\u001b[49m\n\u001b[32m    859\u001b[39m     mgr = arrays_to_mgr(\n\u001b[32m    860\u001b[39m         arrays,\n\u001b[32m    861\u001b[39m         columns,\n\u001b[32m   (...)\u001b[39m\u001b[32m    864\u001b[39m         typ=manager,\n\u001b[32m    865\u001b[39m     )\n\u001b[32m    866\u001b[39m \u001b[38;5;28;01melse\u001b[39;00m:\n",
      "\u001b[36mFile \u001b[39m\u001b[32m~\\AppData\\Local\\Programs\\Python\\Python313\\Lib\\site-packages\\pandas\\core\\internals\\construction.py:520\u001b[39m, in \u001b[36mnested_data_to_arrays\u001b[39m\u001b[34m(data, columns, index, dtype)\u001b[39m\n\u001b[32m    517\u001b[39m \u001b[38;5;28;01mif\u001b[39;00m is_named_tuple(data[\u001b[32m0\u001b[39m]) \u001b[38;5;129;01mand\u001b[39;00m columns \u001b[38;5;129;01mis\u001b[39;00m \u001b[38;5;28;01mNone\u001b[39;00m:\n\u001b[32m    518\u001b[39m     columns = ensure_index(data[\u001b[32m0\u001b[39m]._fields)\n\u001b[32m--> \u001b[39m\u001b[32m520\u001b[39m arrays, columns = \u001b[43mto_arrays\u001b[49m\u001b[43m(\u001b[49m\u001b[43mdata\u001b[49m\u001b[43m,\u001b[49m\u001b[43m \u001b[49m\u001b[43mcolumns\u001b[49m\u001b[43m,\u001b[49m\u001b[43m \u001b[49m\u001b[43mdtype\u001b[49m\u001b[43m=\u001b[49m\u001b[43mdtype\u001b[49m\u001b[43m)\u001b[49m\n\u001b[32m    521\u001b[39m columns = ensure_index(columns)\n\u001b[32m    523\u001b[39m \u001b[38;5;28;01mif\u001b[39;00m index \u001b[38;5;129;01mis\u001b[39;00m \u001b[38;5;28;01mNone\u001b[39;00m:\n",
      "\u001b[36mFile \u001b[39m\u001b[32m~\\AppData\\Local\\Programs\\Python\\Python313\\Lib\\site-packages\\pandas\\core\\internals\\construction.py:845\u001b[39m, in \u001b[36mto_arrays\u001b[39m\u001b[34m(data, columns, dtype)\u001b[39m\n\u001b[32m    842\u001b[39m     data = [\u001b[38;5;28mtuple\u001b[39m(x) \u001b[38;5;28;01mfor\u001b[39;00m x \u001b[38;5;129;01min\u001b[39;00m data]\n\u001b[32m    843\u001b[39m     arr = _list_to_arrays(data)\n\u001b[32m--> \u001b[39m\u001b[32m845\u001b[39m content, columns = \u001b[43m_finalize_columns_and_data\u001b[49m\u001b[43m(\u001b[49m\u001b[43marr\u001b[49m\u001b[43m,\u001b[49m\u001b[43m \u001b[49m\u001b[43mcolumns\u001b[49m\u001b[43m,\u001b[49m\u001b[43m \u001b[49m\u001b[43mdtype\u001b[49m\u001b[43m)\u001b[49m\n\u001b[32m    846\u001b[39m \u001b[38;5;28;01mreturn\u001b[39;00m content, columns\n",
      "\u001b[36mFile \u001b[39m\u001b[32m~\\AppData\\Local\\Programs\\Python\\Python313\\Lib\\site-packages\\pandas\\core\\internals\\construction.py:942\u001b[39m, in \u001b[36m_finalize_columns_and_data\u001b[39m\u001b[34m(content, columns, dtype)\u001b[39m\n\u001b[32m    939\u001b[39m     columns = _validate_or_indexify_columns(contents, columns)\n\u001b[32m    940\u001b[39m \u001b[38;5;28;01mexcept\u001b[39;00m \u001b[38;5;167;01mAssertionError\u001b[39;00m \u001b[38;5;28;01mas\u001b[39;00m err:\n\u001b[32m    941\u001b[39m     \u001b[38;5;66;03m# GH#26429 do not raise user-facing AssertionError\u001b[39;00m\n\u001b[32m--> \u001b[39m\u001b[32m942\u001b[39m     \u001b[38;5;28;01mraise\u001b[39;00m \u001b[38;5;167;01mValueError\u001b[39;00m(err) \u001b[38;5;28;01mfrom\u001b[39;00m\u001b[38;5;250m \u001b[39m\u001b[34;01merr\u001b[39;00m\n\u001b[32m    944\u001b[39m \u001b[38;5;28;01mif\u001b[39;00m \u001b[38;5;28mlen\u001b[39m(contents) \u001b[38;5;129;01mand\u001b[39;00m contents[\u001b[32m0\u001b[39m].dtype == np.object_:\n\u001b[32m    945\u001b[39m     contents = convert_object_array(contents, dtype=dtype)\n",
      "\u001b[31mValueError\u001b[39m: 5 columns passed, passed data had 8 columns"
     ]
    }
   ],
   "source": [
    "from bs4 import BeautifulSoup\n",
    "\n",
    "soup = BeautifulSoup(response.text,\"html.parser\")\n",
    "\n",
    "# Nowfind al the tablles \"wikitable\" class\n",
    "tables = soup.find_all(\"table\")\n",
    "gdp_table_bs = tables[2] # we already know this\n",
    "\n",
    "# extract rows\n",
    "rows = gdp_table_bs.find_all(\"tr\") ## <tr> -> table row; as well as: <th> -> header cell; <td> -> data cell\n",
    "\n",
    "# Now  we can construct a list with the content\n",
    "\n",
    "table_data = []\n",
    "for row in rows:\n",
    "    cells = row.find_all([\"th\", \"td\"])\n",
    "    row_data = [cell.get_text(strip=True) for cell in cells]\n",
    "    table_data.append(row_data)\n",
    "gdp_table = pd.DataFrame(table_data[1:], columns=table_data[0])  # first row as a header\n",
    "\n",
    "    # save as a CSV\n",
    "gdp_table.to_csv(\"gdp_table_bs.csv\", index=False)\n",
    "print(\"GDP table saved as gdp_table_bs.csv\")\n"
   ]
  },
  {
   "cell_type": "markdown",
   "id": "1d7880f7-c8b4-48b2-9c5a-6326ee60c7ea",
   "metadata": {},
   "source": [
    "## Pandas Again"
   ]
  },
  {
   "cell_type": "code",
   "execution_count": 48,
   "id": "e7d3be32-7738-4d34-85c0-0f433daea04e",
   "metadata": {},
   "outputs": [],
   "source": [
    "import pandas as pd\n",
    "import requests\n",
    "import numpy as np\n",
    "url = \"https://web.archive.org/web/20230902185326/https://en.wikipedia.org/wiki/List_of_countries_by_GDP_%28nominal%29\"\n",
    "\n",
    "# next thing is going to suppress warnings  instead of using StringIO\n",
    "def warn(*args, **kwargs):\n",
    "    pass\n",
    "import warnings\n",
    "warnings.warn = warn\n",
    "warnings.filterwarnings('ignore')"
   ]
  },
  {
   "cell_type": "code",
   "execution_count": 56,
   "id": "b949f10b-5761-4d06-997e-dfdee0f171cf",
   "metadata": {},
   "outputs": [
    {
     "data": {
      "text/html": [
       "<div>\n",
       "<style scoped>\n",
       "    .dataframe tbody tr th:only-of-type {\n",
       "        vertical-align: middle;\n",
       "    }\n",
       "\n",
       "    .dataframe tbody tr th {\n",
       "        vertical-align: top;\n",
       "    }\n",
       "\n",
       "    .dataframe thead th {\n",
       "        text-align: right;\n",
       "    }\n",
       "</style>\n",
       "<table border=\"1\" class=\"dataframe\">\n",
       "  <thead>\n",
       "    <tr style=\"text-align: right;\">\n",
       "      <th></th>\n",
       "      <th>Country</th>\n",
       "      <th>GDP (Million USD)</th>\n",
       "    </tr>\n",
       "  </thead>\n",
       "  <tbody>\n",
       "    <tr>\n",
       "      <th>1</th>\n",
       "      <td>United States</td>\n",
       "      <td>26854599</td>\n",
       "    </tr>\n",
       "    <tr>\n",
       "      <th>2</th>\n",
       "      <td>China</td>\n",
       "      <td>19373586</td>\n",
       "    </tr>\n",
       "    <tr>\n",
       "      <th>3</th>\n",
       "      <td>Japan</td>\n",
       "      <td>4409738</td>\n",
       "    </tr>\n",
       "    <tr>\n",
       "      <th>4</th>\n",
       "      <td>Germany</td>\n",
       "      <td>4308854</td>\n",
       "    </tr>\n",
       "    <tr>\n",
       "      <th>5</th>\n",
       "      <td>India</td>\n",
       "      <td>3736882</td>\n",
       "    </tr>\n",
       "    <tr>\n",
       "      <th>6</th>\n",
       "      <td>United Kingdom</td>\n",
       "      <td>3158938</td>\n",
       "    </tr>\n",
       "    <tr>\n",
       "      <th>7</th>\n",
       "      <td>France</td>\n",
       "      <td>2923489</td>\n",
       "    </tr>\n",
       "    <tr>\n",
       "      <th>8</th>\n",
       "      <td>Italy</td>\n",
       "      <td>2169745</td>\n",
       "    </tr>\n",
       "    <tr>\n",
       "      <th>9</th>\n",
       "      <td>Canada</td>\n",
       "      <td>2089672</td>\n",
       "    </tr>\n",
       "    <tr>\n",
       "      <th>10</th>\n",
       "      <td>Brazil</td>\n",
       "      <td>2081235</td>\n",
       "    </tr>\n",
       "  </tbody>\n",
       "</table>\n",
       "</div>"
      ],
      "text/plain": [
       "           Country GDP (Million USD)\n",
       "1    United States          26854599\n",
       "2            China          19373586\n",
       "3            Japan           4409738\n",
       "4          Germany           4308854\n",
       "5            India           3736882\n",
       "6   United Kingdom           3158938\n",
       "7           France           2923489\n",
       "8            Italy           2169745\n",
       "9           Canada           2089672\n",
       "10          Brazil           2081235"
      ]
     },
     "execution_count": 56,
     "metadata": {},
     "output_type": "execute_result"
    }
   ],
   "source": [
    "# Extract tables from webpage using Pandas. Retain table number 3 as the required dataframe.\n",
    "tables = pd.read_html(url)\n",
    "df = tables[3]\n",
    "# Replace the column headers with column numbers\n",
    "df.columns = range(df.shape[1])\n",
    "# Retain columns with index 0 and 2 (name of country and value of GDP quoted by IMF)\n",
    "df = df[[0,2]]\n",
    "# Retain the Rows with index 1 to 10, indicating the top 10 economies of the world.\n",
    "df = df.iloc[1:11,:]\n",
    "# Assign column names as \"Country\" and \"GDP (Million USD)\"\n",
    "df.columns = [\"Country\", \"GDP (Million USD)\"]\n",
    "df"
   ]
  },
  {
   "cell_type": "code",
   "execution_count": 57,
   "id": "d274a3de-a90a-4b44-b9bb-325999b78946",
   "metadata": {},
   "outputs": [
    {
     "data": {
      "text/html": [
       "<div>\n",
       "<style scoped>\n",
       "    .dataframe tbody tr th:only-of-type {\n",
       "        vertical-align: middle;\n",
       "    }\n",
       "\n",
       "    .dataframe tbody tr th {\n",
       "        vertical-align: top;\n",
       "    }\n",
       "\n",
       "    .dataframe thead th {\n",
       "        text-align: right;\n",
       "    }\n",
       "</style>\n",
       "<table border=\"1\" class=\"dataframe\">\n",
       "  <thead>\n",
       "    <tr style=\"text-align: right;\">\n",
       "      <th></th>\n",
       "      <th>Country</th>\n",
       "      <th>GDP (Billion USD)</th>\n",
       "    </tr>\n",
       "  </thead>\n",
       "  <tbody>\n",
       "    <tr>\n",
       "      <th>1</th>\n",
       "      <td>United States</td>\n",
       "      <td>26854.60</td>\n",
       "    </tr>\n",
       "    <tr>\n",
       "      <th>2</th>\n",
       "      <td>China</td>\n",
       "      <td>19373.59</td>\n",
       "    </tr>\n",
       "    <tr>\n",
       "      <th>3</th>\n",
       "      <td>Japan</td>\n",
       "      <td>4409.74</td>\n",
       "    </tr>\n",
       "    <tr>\n",
       "      <th>4</th>\n",
       "      <td>Germany</td>\n",
       "      <td>4308.85</td>\n",
       "    </tr>\n",
       "    <tr>\n",
       "      <th>5</th>\n",
       "      <td>India</td>\n",
       "      <td>3736.88</td>\n",
       "    </tr>\n",
       "    <tr>\n",
       "      <th>6</th>\n",
       "      <td>United Kingdom</td>\n",
       "      <td>3158.94</td>\n",
       "    </tr>\n",
       "    <tr>\n",
       "      <th>7</th>\n",
       "      <td>France</td>\n",
       "      <td>2923.49</td>\n",
       "    </tr>\n",
       "    <tr>\n",
       "      <th>8</th>\n",
       "      <td>Italy</td>\n",
       "      <td>2169.74</td>\n",
       "    </tr>\n",
       "    <tr>\n",
       "      <th>9</th>\n",
       "      <td>Canada</td>\n",
       "      <td>2089.67</td>\n",
       "    </tr>\n",
       "    <tr>\n",
       "      <th>10</th>\n",
       "      <td>Brazil</td>\n",
       "      <td>2081.24</td>\n",
       "    </tr>\n",
       "  </tbody>\n",
       "</table>\n",
       "</div>"
      ],
      "text/plain": [
       "           Country  GDP (Billion USD)\n",
       "1    United States           26854.60\n",
       "2            China           19373.59\n",
       "3            Japan            4409.74\n",
       "4          Germany            4308.85\n",
       "5            India            3736.88\n",
       "6   United Kingdom            3158.94\n",
       "7           France            2923.49\n",
       "8            Italy            2169.74\n",
       "9           Canada            2089.67\n",
       "10          Brazil            2081.24"
      ]
     },
     "execution_count": 57,
     "metadata": {},
     "output_type": "execute_result"
    }
   ],
   "source": [
    "# Change the data type of the 'GDP (Million USD)' column to integer. Use astype() method.\n",
    "df['GDP (Million USD)'] = df['GDP (Million USD)'].astype(str)\n",
    "# Convert the GDP value in Million USD to Billion USD\n",
    "df['GDP (Million USD)'] = df['GDP (Million USD)'].astype(float) / 1000\n",
    "# Use numpy.round() method to round the value to 2 decimal places.\n",
    "df[['GDP (Million USD)']] = np.round(df[['GDP (Million USD)']],2)\n",
    "\n",
    "# you can do this last two in one for cleaner code\n",
    "# df[['GDP (Million USD)']] = np.round(df['GDP (Million USD)'].astype(float) / 1000,2)\n",
    "\n",
    "# Rename the column header from 'GDP (Million USD)' to 'GDP (Billion USD)'\n",
    "df = df.rename(columns = {'GDP (Million USD)' : 'GDP (Billion USD)'})\n",
    "\n",
    "df"
   ]
  },
  {
   "cell_type": "code",
   "execution_count": 58,
   "id": "310dc258-2305-4e2d-a10e-638bb31240dd",
   "metadata": {},
   "outputs": [],
   "source": [
    "# Load the DataFrame to the CSV file named \"Largest_economies.csv\"\n",
    "df.to_csv('./Largest_economies.csv')"
   ]
  },
  {
   "cell_type": "code",
   "execution_count": 70,
   "id": "ba194f19-33d0-4d0b-8c6b-9a4d969d4b18",
   "metadata": {},
   "outputs": [
    {
     "data": {
      "text/plain": [
       "'11'"
      ]
     },
     "execution_count": 70,
     "metadata": {},
     "output_type": "execute_result"
    }
   ],
   "source": [
    "def add(x):\n",
    "    return(x+x)\n",
    "add('1')"
   ]
  }
 ],
 "metadata": {
  "kernelspec": {
   "display_name": "Python 3 (ipykernel)",
   "language": "python",
   "name": "python3"
  },
  "language_info": {
   "codemirror_mode": {
    "name": "ipython",
    "version": 3
   },
   "file_extension": ".py",
   "mimetype": "text/x-python",
   "name": "python",
   "nbconvert_exporter": "python",
   "pygments_lexer": "ipython3",
   "version": "3.13.1"
  }
 },
 "nbformat": 4,
 "nbformat_minor": 5
}
