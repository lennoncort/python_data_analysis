{
 "cells": [
  {
   "cell_type": "code",
   "execution_count": 18,
   "id": "28f03fc7-151f-4434-ab1b-f8393e3f9153",
   "metadata": {},
   "outputs": [
    {
     "data": {
      "text/plain": [
       "3"
      ]
     },
     "execution_count": 18,
     "metadata": {},
     "output_type": "execute_result"
    }
   ],
   "source": [
    "## Based on curse given by Akansha yadav\n",
    "## Extract usefull information from customer feedback for a product using the following tasks:\n",
    "    #String in lowercase\n",
    "    #Frequency of all words in a given string\n",
    "    #Frequency of a specific word\n",
    "string = \"Voilà! In view, a humble vaudevillian veteran, cast vicariously as both victim and villain by the vicissitudes of Fate. This visage, no mere veneer of vanity, is it vestige of the vox populi, now vacant, vanished.However, this valorous visitation of a bygone vexation stands vivified, and has vowed to vanquish these venal and virulent vermin, vanguarding vice and vouchsafing the violently vicious and voracious violation of volition. The only verdict is vengeance; a vendetta, held as a votive not in vain, for the value and veracity of such shall one day vindicate the vigilant and the virtuous.Verily, this vichyssoise of verbiage veers most verbose, so let me simply add that it is my very good honor to meet you and you may call me V.\"\n",
    "\n",
    "class TextAnalyzer(object):\n",
    "    def __init__(self,text):\n",
    "        formattedText = text.replace('.','').replace(',','').replace(';','').replace('?','').replace('!','')\n",
    "        formattedText = formattedText.lower()\n",
    "        self.fmtText = formattedText\n",
    "\n",
    "    def freqAll(self):\n",
    "        #split text into words\n",
    "        wordList = self.fmtText.split(' ')\n",
    "        #make dictionary\n",
    "        freqMap = {}\n",
    "        for word in set(wordList): #using \"set\" to remove duplicates in list\n",
    "            freqMap[word] = wordList.count(word)\n",
    "\n",
    "        return freqMap\n",
    "\n",
    "    def freqOf(self,word):\n",
    "        freqDict = self.freqAll()\n",
    "\n",
    "        if word in freqDict:\n",
    "            return freqDict[word]\n",
    "        else:\n",
    "            return 0\n",
    "\n",
    "string = TextAnalyzer(\"Voilà! In view, a humble vaudevillian veteran, cast vicariously as both victim and villain by the vicissitudes of Fate. This visage, no mere veneer of vanity, is it vestige of the vox populi, now vacant, vanished.However, this valorous visitation of a bygone vexation stands vivified, and has vowed to vanquish these venal and virulent vermin, vanguarding vice and vouchsafing the violently vicious and voracious violation of volition. The only verdict is vengeance; a vendetta, held as a votive not in vain, for the value and veracity of such shall one day vindicate the vigilant and the virtuous.Verily, this vichyssoise of verbiage veers most verbose, so let me simply add that it is my very good honor to meet you and you may call me V.\")\n",
    "dir(string)\n",
    "string.freqOf(\"this\")"
   ]
  },
  {
   "cell_type": "code",
   "execution_count": 15,
   "id": "137c2e18-cf07-42a6-a4f2-f465c5fd8f94",
   "metadata": {},
   "outputs": [
    {
     "name": "stdout",
     "output_type": "stream",
     "text": [
      "{'by': 1, 'in': 2, 'one': 1, 'vacant': 1, 'mere': 1, 'for': 1, 'such': 1, 'vicious': 1, 'may': 1, 'veneer': 1, 'you': 2, 'let': 1, 'honor': 1, 'vengeance': 1, 'view': 1, 'veers': 1, 'a': 4, 'so': 1, 'vice': 1, 'violently': 1, 'voracious': 1, 'veracity': 1, 'of': 7, 'value': 1, 'vanishedhowever': 1, 'villain': 1, 'valorous': 1, 'vindicate': 1, 'vichyssoise': 1, 'vain': 1, 'very': 1, 'stands': 1, 'good': 1, 'is': 3, 'meet': 1, 'vigilant': 1, 'v': 1, 'it': 2, 'victim': 1, 'populi': 1, 'both': 1, 'violation': 1, 'has': 1, 'visitation': 1, 'simply': 1, 'me': 2, 'call': 1, 'vexation': 1, 'fate': 1, 'now': 1, 'vermin': 1, 'verbose': 1, 'vicissitudes': 1, 'shall': 1, 'virtuousverily': 1, 'no': 1, 'humble': 1, 'volition': 1, 'visage': 1, 'voilà': 1, 'venal': 1, 'vouchsafing': 1, 'and': 8, 'not': 1, 'only': 1, 'verbiage': 1, 'cast': 1, 'vendetta': 1, 'virulent': 1, 'vaudevillian': 1, 'votive': 1, 'vox': 1, 'vicariously': 1, 'vanquish': 1, 'verdict': 1, 'bygone': 1, 'this': 3, 'vestige': 1, 'as': 2, 'to': 2, 'vanity': 1, 'day': 1, 'most': 1, 'add': 1, 'held': 1, 'these': 1, 'my': 1, 'veteran': 1, 'the': 7, 'vivified': 1, 'vanguarding': 1, 'that': 1, 'vowed': 1}\n"
     ]
    }
   ],
   "source": [
    "freqMap = string.freqAll()\n",
    "print(freqMap)"
   ]
  }
 ],
 "metadata": {
  "kernelspec": {
   "display_name": "Python 3 (ipykernel)",
   "language": "python",
   "name": "python3"
  },
  "language_info": {
   "codemirror_mode": {
    "name": "ipython",
    "version": 3
   },
   "file_extension": ".py",
   "mimetype": "text/x-python",
   "name": "python",
   "nbconvert_exporter": "python",
   "pygments_lexer": "ipython3",
   "version": "3.13.1"
  }
 },
 "nbformat": 4,
 "nbformat_minor": 5
}
