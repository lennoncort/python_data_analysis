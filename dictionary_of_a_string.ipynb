{
 "cells": [
  {
   "cell_type": "code",
   "execution_count": 1,
   "id": "75b5bdc6-4983-4249-8156-f6ee464f641b",
   "metadata": {},
   "outputs": [
    {
     "name": "stdout",
     "output_type": "stream",
     "text": [
      "Here you have all the different words with its frequency:  {'mary': 6, 'had': 2, 'a': 2, 'little': 4, 'lamb': 4, 'lambits': 1, 'fleece': 1, 'was': 2, 'white': 1, 'as': 1, 'snow': 1, 'and': 1, 'everywhere': 2, 'that': 2, 'went': 4, 'the': 1, 'sure': 1, 'to': 1, 'go': 1}\n"
     ]
    }
   ],
   "source": [
    "def make_dic(text):\n",
    "    \"\"\"\n",
    "    Creates a global dictionary 'Dic' with word frequencies from the given text.\n",
    "    Converts text to lowercase, removes punctuation, and prints the result.\n",
    "    \"\"\"\n",
    "    import string\n",
    "    # lower case\n",
    "    text = text.lower()\n",
    "    # erase punctuation\n",
    "    for char in string.punctuation:\n",
    "        text = text.replace(char, \"\")\n",
    "    \n",
    "    words = []\n",
    "    words = text.split()\n",
    "\n",
    "    global Dic\n",
    "    Dic = {}\n",
    "    for key in words:\n",
    "        Dic[key] = words.count(key)\n",
    "    print(\"Here you have all the different words with its frequency: \", Dic)\n",
    "\n",
    "make_dic(\"Mary had a little lamb Little lamb, little lamb Mary had a little lamb.Its fleece was white as snow And everywhere that Mary went Mary went, Mary went \\\n",
    "#Everywhere that Mary went The lamb was sure to go\")\n",
    "#print(Dic)"
   ]
  },
  {
   "cell_type": "code",
   "execution_count": 2,
   "id": "c15e9e88-f898-49cf-a38e-679e501ec440",
   "metadata": {},
   "outputs": [
    {
     "name": "stdout",
     "output_type": "stream",
     "text": [
      "Total count of the word little in the string input: 4\n"
     ]
    }
   ],
   "source": [
    "def count_word(text, passedkey):\n",
    "    import string\n",
    "    # lower case\n",
    "    text = text.lower()\n",
    "    # erase punctuation\n",
    "    for token in string.punctuation:\n",
    "        text = text.replace(token,\"\")\n",
    "    ##\n",
    "    words = []\n",
    "    words = text.split()\n",
    "    ##\n",
    "    global Dic\n",
    "    Dic = {}\n",
    "    for key in words:\n",
    "        if key == passedkey:\n",
    "            Dic[key] = words.count(key)\n",
    "    print(f\"Total count of the word {passedkey} in the string input:\", Dic[passedkey])\n",
    "count_word(\"Mary had a little lamb Little lamb, little lamb Mary had a little lamb.Its fleece was white as snow And everywhere that Mary went Mary went, \\\n",
    "Mary went Everywhere that Mary went The lamb was sure to go\", \"little\")"
   ]
  }
 ],
 "metadata": {
  "kernelspec": {
   "display_name": "Python 3 (ipykernel)",
   "language": "python",
   "name": "python3"
  },
  "language_info": {
   "codemirror_mode": {
    "name": "ipython",
    "version": 3
   },
   "file_extension": ".py",
   "mimetype": "text/x-python",
   "name": "python",
   "nbconvert_exporter": "python",
   "pygments_lexer": "ipython3",
   "version": "3.13.1"
  }
 },
 "nbformat": 4,
 "nbformat_minor": 5
}
