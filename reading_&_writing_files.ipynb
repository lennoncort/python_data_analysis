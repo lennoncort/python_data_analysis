{
 "cells": [
  {
   "cell_type": "code",
   "execution_count": 72,
   "id": "9ce18a95-2031-4b30-b9fb-0226a55066bb",
   "metadata": {},
   "outputs": [
    {
     "name": "stdout",
     "output_type": "stream",
     "text": [
      "Download complete.\n"
     ]
    }
   ],
   "source": [
    "## Reading files with open\n",
    "import urllib.request\n",
    "\n",
    "url = \"https://cf-courses-data.s3.us.cloud-object-storage.appdomain.cloud/IBMDeveloperSkillsNetwork-PY0101EN-SkillsNetwork/labs/Module%204/data/example1.txt\"\n",
    "filename = \"Example1.txt\"\n",
    "\n",
    "# Download the file from the URL and save it as Example1.txt\n",
    "urllib.request.urlretrieve(url, filename)\n",
    "\n",
    "print(\"Download complete.\")\n",
    "\n"
   ]
  },
  {
   "cell_type": "code",
   "execution_count": 70,
   "id": "bd762152-df8e-4af4-8f90-078922ba0d2f",
   "metadata": {},
   "outputs": [
    {
     "data": {
      "text/plain": [
       "'This is line 1 \\nThis is line 2\\nThis is line 3This is line A\\n'"
      ]
     },
     "execution_count": 70,
     "metadata": {},
     "output_type": "execute_result"
    }
   ],
   "source": [
    "##Reading text Files\n",
    "\n",
    "example1 = \"example1.txt\"\n",
    "file1 = open(example1, \"r\")\n",
    "dir(file1)\n",
    "file1.name\n",
    "file1.mode\n",
    "#file1.read()\n",
    "file_content = file1.read()\n",
    "file_content\n",
    "#type(file_content)\n",
    "#print(file_content)\n",
    "\n",
    "\n"
   ]
  },
  {
   "cell_type": "code",
   "execution_count": 27,
   "id": "87f29c72-3097-44a0-aca2-bd7cc2d32c1d",
   "metadata": {},
   "outputs": [
    {
     "name": "stdout",
     "output_type": "stream",
     "text": [
      "This is line 1 \n",
      "This is line 2\n",
      "This is line 3\n",
      "False\n"
     ]
    }
   ],
   "source": [
    "with open(example1, \"r\") as file1:\n",
    "    FileContent = file1.read()\n",
    "    print(FileContent)\n",
    "    print(file1.closed)"
   ]
  },
  {
   "cell_type": "code",
   "execution_count": 34,
   "id": "a1b1b09a-9b1b-4c12-892e-48c1d72cbf20",
   "metadata": {},
   "outputs": [
    {
     "name": "stdout",
     "output_type": "stream",
     "text": [
      "This is line 1 \n",
      "\n",
      "This \n",
      "is line 2\n"
     ]
    }
   ],
   "source": [
    "with open(example1,\"r\") as file1:\n",
    "    print(file1.read(16))\n",
    "    print(file1.read(5))\n",
    "    print(file1.read(9))\n",
    "    #print(file1.read(15))"
   ]
  },
  {
   "cell_type": "code",
   "execution_count": 35,
   "id": "655401e5-d2ac-4118-b970-c3cc5a1d18de",
   "metadata": {},
   "outputs": [
    {
     "name": "stdout",
     "output_type": "stream",
     "text": [
      "first line: This is line 1 \n",
      "\n"
     ]
    }
   ],
   "source": [
    "with open(example1, \"r\") as file1:\n",
    "    print(\"first line: \" + file1.readline())"
   ]
  },
  {
   "cell_type": "code",
   "execution_count": 50,
   "id": "06b8e8a9-9843-4926-b1e0-9eb4f2ad420e",
   "metadata": {},
   "outputs": [
    {
     "name": "stdout",
     "output_type": "stream",
     "text": [
      "This is line 1 \n",
      "\n",
      "This is line 2\n",
      "This\n"
     ]
    }
   ],
   "source": [
    "with open(example1, \"r\") as file1:\n",
    "    print(file1.readline(15)) # does not read past the end of line\n",
    "    print(file1.read(20)) # Returns the next 20 chars"
   ]
  },
  {
   "cell_type": "code",
   "execution_count": 67,
   "id": "7d65e0fa-ae97-4176-8e87-875efe38d228",
   "metadata": {},
   "outputs": [
    {
     "name": "stdout",
     "output_type": "stream",
     "text": [
      "Iteration 0 : This is line 1 \n",
      "\n",
      "Iteration 1 : This is line 2\n",
      "\n",
      "Iteration 2 : This is line 3\n"
     ]
    }
   ],
   "source": [
    "with open(example1, \"r\") as file1:\n",
    "    i = 0\n",
    "    for line in file1:\n",
    "        print(\"Iteration\", str(i),\":\", line)\n",
    "        i = i + 1"
   ]
  },
  {
   "cell_type": "code",
   "execution_count": 73,
   "id": "b9eaeea9-716a-46a6-8334-8a4de489d21c",
   "metadata": {},
   "outputs": [
    {
     "name": "stdout",
     "output_type": "stream",
     "text": [
      "Iteration 1 : This is line 1 \n",
      "\n",
      "Iteration 1 : This is line 2\n",
      "\n",
      "Iteration 1 : This is line 3\n",
      "\n",
      "Iteration 1 : This is line A\n",
      "\n"
     ]
    }
   ],
   "source": [
    "## Writing files with open\n",
    "with open(example1, \"a+\") as file1:\n",
    "    file1.write(\"\\nThis is line A\\n\")\n",
    "        # Move cursor back to the beginning of the file\n",
    "    file1.seek(0)\n",
    "    i = 0\n",
    "    for line in file1:\n",
    "        print(\"Iteration\", str(1), \":\", line)\n",
    "        i = i+1"
   ]
  },
  {
   "cell_type": "code",
   "execution_count": 86,
   "id": "aadaf5e0-e224-4710-a8e7-2d1bb76fca5f",
   "metadata": {},
   "outputs": [
    {
     "name": "stdout",
     "output_type": "stream",
     "text": [
      "This is line A\n",
      "This is line B\n",
      "\n"
     ]
    }
   ],
   "source": [
    "Exmp2 = 'Example2.txt'\n",
    "with open(Exmp2, \"w+\") as writefile:\n",
    "    writefile.write(\"This is line A\\n\")\n",
    "    writefile.write(\"This is line B\\n\")\n",
    "    writefile.seek(0)\n",
    "    \n",
    "    content = writefile.read()\n",
    "    print(content)\n"
   ]
  },
  {
   "cell_type": "code",
   "execution_count": 97,
   "id": "5e424a6d-9275-4759-bf1d-efdcb965fc89",
   "metadata": {},
   "outputs": [
    {
     "name": "stdout",
     "output_type": "stream",
     "text": [
      "This is line A\n",
      "\n",
      "This is line B\n",
      "\n",
      "This is line C\n",
      "\n",
      "\n"
     ]
    }
   ],
   "source": [
    "Lines = [\"This is line A\\n\", \"This is line B\\n\", \"This is line C\\n\"]\n",
    "with open(Exmp2, \"w+\") as writefile2:\n",
    "    for line in Lines:\n",
    "        print(line)\n",
    "        writefile2.write(line)\n",
    "    \n",
    "    content = writefile2.read()\n",
    "    print(content)"
   ]
  },
  {
   "cell_type": "code",
   "execution_count": 98,
   "id": "0c846ad5-fa05-4368-9915-7c57a91a6eed",
   "metadata": {},
   "outputs": [
    {
     "name": "stdout",
     "output_type": "stream",
     "text": [
      "This is line A\n",
      "This is line B\n",
      "This is line C\n",
      "This is line D\n",
      "This is line E\n",
      "This is line F\n",
      "\n"
     ]
    }
   ],
   "source": [
    "Lines2 = [\"This is line D\\n\", \"This is line E\\n\", \"This is line F\\n\"]\n",
    "\n",
    "with open(Exmp2, \"a+\") as writefile2:\n",
    "    for line in Lines2:\n",
    "        #print(line)\n",
    "        writefile2.write(line)\n",
    "\n",
    "    writefile2.seek(0)\n",
    "\n",
    "    content = writefile2.read()\n",
    "    print(content)"
   ]
  },
  {
   "cell_type": "code",
   "execution_count": 106,
   "id": "1f66dd00-452c-497a-81f3-e093bff1054b",
   "metadata": {},
   "outputs": [
    {
     "name": "stdout",
     "output_type": "stream",
     "text": [
      "Initial Location: 42\n",
      "Read nothing\n",
      "\n",
      "New Location : 0\n",
      "Line 1\n",
      "Line 2\n",
      "Line 3\n",
      "Line 4\n",
      "finished\n",
      "\n",
      "Location after read: 42\n"
     ]
    }
   ],
   "source": [
    "with open(Exmp2, 'a+') as testwritefile:\n",
    "    print(\"Initial Location: {}\".format(testwritefile.tell())) ##returns the current position in bytes\n",
    "    \n",
    "    data = testwritefile.read()\n",
    "    if (not data):  #empty strings return false in python\n",
    "            print('Read nothing') \n",
    "    else: \n",
    "            print(testwritefile.read())\n",
    "            \n",
    "    testwritefile.seek(0,0) # move 0 bytes from beginning. .seek(offset,from); from=0(beggining), 1(current position), 2 (end)\n",
    "    \n",
    "    print(\"\\nNew Location : {}\".format(testwritefile.tell()))\n",
    "    data = testwritefile.read()\n",
    "    if (not data): \n",
    "            print('Read nothing') \n",
    "    else: \n",
    "            print(data)\n",
    "    \n",
    "    print(\"Location after read: {}\".format(testwritefile.tell()) )"
   ]
  },
  {
   "cell_type": "code",
   "execution_count": 112,
   "id": "73660933-2f0e-4cb3-8910-9ecbac010843",
   "metadata": {},
   "outputs": [
    {
     "name": "stdout",
     "output_type": "stream",
     "text": [
      "Line 1\n",
      "Line 2\n",
      "Line 3\n",
      "Line 4\n",
      "finished\n",
      "\n"
     ]
    }
   ],
   "source": [
    "with open(Exmp2, 'r+') as testwritefile:\n",
    "    testwritefile.seek(0,0) #write at beginning of file\n",
    "    testwritefile.write(\"Line 1\" + \"\\n\")\n",
    "    testwritefile.write(\"Line 2\" + \"\\n\")\n",
    "    testwritefile.write(\"Line 3\" + \"\\n\")\n",
    "    testwritefile.write(\"Line 4\" + \"\\n\")\n",
    "    testwritefile.write(\"finished\\n\")\n",
    "\n",
    "    testwritefile.seek(0,0)\n",
    "    print(testwritefile.read())"
   ]
  },
  {
   "cell_type": "code",
   "execution_count": 120,
   "id": "75581512-1cd2-4feb-9982-131fc02ed335",
   "metadata": {},
   "outputs": [
    {
     "name": "stdout",
     "output_type": "stream",
     "text": [
      "Line 1\n",
      "Line 2\n",
      "Line 3\n",
      "Line 4\n",
      "finished\n",
      "\n"
     ]
    }
   ],
   "source": [
    "# Copy file to another\n",
    "with open(\"Example2.txt\", \"r+\") as readfile:\n",
    "    with open(\"Example3.txt\", \"w+\") as writefile:\n",
    "        for line in readfile:\n",
    "            writefile.write(line)\n",
    "        writefile.seek(0)\n",
    "        print(writefile.read())"
   ]
  },
  {
   "cell_type": "markdown",
   "id": "6194d2f5-9b79-43c4-b721-abb4b5d604d6",
   "metadata": {},
   "source": [
    "# Exercise\n",
    "Your local university's Raptors fan club maintains a register of its active members on a .txt document. Every month they update the file by removing the members who are not active. You have been tasked with automating this with your Python skills.\n",
    "Given the file currentMem, Remove each member with a 'no' in their Active column. Keep track of each of the removed members and append them to the exMem file. Make sure that the format of the original files in preserved. (Hint: Do this by reading/writing whole lines and ensuring the header remains )\n",
    "Run the code block below prior to starting the exercise. The skeleton code has been provided for you. Edit only the cleanFiles function."
   ]
  },
  {
   "cell_type": "code",
   "execution_count": 129,
   "id": "12ddf9e9-fc6e-4ff4-b981-9438a9847deb",
   "metadata": {},
   "outputs": [],
   "source": [
    "## First we prepare the file to do the exercise\n",
    "from random import randint as rdn\n",
    "\n",
    "memReg = 'members.txt'\n",
    "exReg = 'inactive.txt'\n",
    "fee =('yes','no')\n",
    "\n",
    "def genFiles(current,old):\n",
    "    with open(current,\"w+\") as writefile:\n",
    "        writefile.write('Membership No  Date Joined  Active  \\n')\n",
    "        data = \"{:^13}  {:<11}  {:<6}\\n\" #(^13 centra 13 caracteres); (<11 alinea a la izquiera 11 caracteres); etc\n",
    "\n",
    "        for rowno in range(20):\n",
    "            date = str(rnd(2015,2020)) + '/' + str(rnd(1,12)) + '/' + str(rnd(1,28))\n",
    "            writefile.write(data.format(rnd(10000,99999),date,fee[rnd(0,1)]))\n",
    "\n",
    "    with open(old,\"w+\") as writefile:\n",
    "        writefile.write('Membership No  Date Joined  Active  \\n')\n",
    "        data = \"{:^13}  {:<11}  {:<6}\\n\" #(^13 centra 13 caracteres); (<11 alinea a la izquiera 11 caracteres); etc\n",
    "\n",
    "        for rowno in range(3):\n",
    "            date = str(rnd(2015,2020)) + '/' + str(rnd(1,12)) + '/' + str(rnd(1,28))\n",
    "            writefile.write(data.format(rnd(10000,99999),date,fee[1]))\n",
    "\n",
    "genFiles(memReg, exReg)"
   ]
  },
  {
   "cell_type": "code",
   "execution_count": 147,
   "id": "87a84189-2b0d-4180-94e0-9547f8b434dc",
   "metadata": {},
   "outputs": [
    {
     "name": "stdout",
     "output_type": "stream",
     "text": [
      "Active Members: \n",
      "\n",
      "\n",
      "Membership No  Date Joined  Active  \n",
      "    44748      2015/1/27    yes   \n",
      "    90147      2016/9/3     yes   \n",
      "    94321      2018/7/28    yes   \n",
      "    51370      2019/7/7     yes   \n",
      "    40322      2018/2/9     yes   \n",
      "    86823      2017/8/1     yes   \n",
      "    43154      2015/9/6     yes   \n",
      "    13894      2017/3/27    yes   \n",
      "\n",
      "Inactive Members: \n",
      "\n",
      "\n",
      "Membership No  Date Joined  Active  \n",
      "    12591      2015/6/13    no    \n",
      "    50866      2019/6/13    no    \n",
      "    31110      2015/7/21    no    \n",
      "    31041      2020/5/24    no    \n",
      "    13658      2015/8/18    no    \n",
      "    85331      2019/3/20    no    \n",
      "    87167      2017/12/12   no    \n",
      "    39832      2016/5/1     no    \n",
      "    96860      2019/1/6     no    \n",
      "    75734      2015/7/3     no    \n",
      "    18034      2016/3/9     no    \n",
      "    82283      2016/3/4     no    \n",
      "    78187      2018/11/9    no    \n",
      "    95431      2017/3/3     no    \n",
      "    28105      2017/8/11    no    \n",
      "\n"
     ]
    }
   ],
   "source": [
    "def cleanFiles(currentMem, exMem):\n",
    "    with open(currentMem, \"r\") as readfile:\n",
    "        lines = readfile.readlines()\n",
    "        active_lines = []\n",
    "        inactive_lines = []\n",
    "        for line in lines:\n",
    "            if \"Membership\" in line:\n",
    "                active_lines.append(line)\n",
    "                continue\n",
    "            if line.strip().endswith(\"no\"):\n",
    "                inactive_lines.append(line)\n",
    "            else:\n",
    "                active_lines.append(line)\n",
    "    with open(exMem, \"a\") as addfile:\n",
    "        addfile.writelines(inactive_lines)\n",
    "    with open(currentMem, \"w\") as writefile:\n",
    "        writefile.writelines(active_lines)\n",
    "                \n",
    "cleanFiles(memReg,exReg)\n",
    "headers = \"Membership No  Date Joined  Active  \\n\"\n",
    "with open(memReg,'r') as readFile:\n",
    "    print(\"Active Members: \\n\\n\")\n",
    "    print(readFile.read())\n",
    "    \n",
    "with open(exReg,'r') as readFile:\n",
    "    print(\"Inactive Members: \\n\\n\")\n",
    "    print(readFile.read())\n",
    "                    "
   ]
  },
  {
   "cell_type": "code",
   "execution_count": 139,
   "id": "509ca930-115e-4caa-8d1a-f57b107800a1",
   "metadata": {},
   "outputs": [
    {
     "data": {
      "text/plain": [
       "True"
      ]
     },
     "execution_count": 139,
     "metadata": {},
     "output_type": "execute_result"
    }
   ],
   "source": []
  }
 ],
 "metadata": {
  "kernelspec": {
   "display_name": "Python 3 (ipykernel)",
   "language": "python",
   "name": "python3"
  },
  "language_info": {
   "codemirror_mode": {
    "name": "ipython",
    "version": 3
   },
   "file_extension": ".py",
   "mimetype": "text/x-python",
   "name": "python",
   "nbconvert_exporter": "python",
   "pygments_lexer": "ipython3",
   "version": "3.13.1"
  }
 },
 "nbformat": 4,
 "nbformat_minor": 5
}
