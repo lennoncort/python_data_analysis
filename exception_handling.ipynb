{
 "cells": [
  {
   "cell_type": "code",
   "execution_count": 1,
   "id": "cbf965a9-6f34-4475-96f3-6ea39b8016b0",
   "metadata": {},
   "outputs": [
    {
     "ename": "IndentationError",
     "evalue": "expected an indented block after 'try' statement on line 3 (2308515679.py, line 5)",
     "output_type": "error",
     "traceback": [
      "  \u001b[36mCell\u001b[39m\u001b[36m \u001b[39m\u001b[32mIn[1]\u001b[39m\u001b[32m, line 5\u001b[39m\n\u001b[31m    \u001b[39m\u001b[31mexcept:\u001b[39m\n    ^\n\u001b[31mIndentationError\u001b[39m\u001b[31m:\u001b[39m expected an indented block after 'try' statement on line 3\n"
     ]
    }
   ],
   "source": [
    "## Exception Handling\n",
    "    # Python tries to execute the code in the try block.\n",
    "try:\n",
    "    # code to try to execute\n",
    "except:\n",
    "    # code to execute if there is an exception\n",
    "# code that will still execute if there is an exception"
   ]
  },
  {
   "cell_type": "code",
   "execution_count": 3,
   "id": "927fde5f-aa58-48b0-98a5-93b2dfc0ed1d",
   "metadata": {},
   "outputs": [
    {
     "name": "stdin",
     "output_type": "stream",
     "text": [
      "Write a number to divide 'a': 0\n"
     ]
    },
    {
     "name": "stdout",
     "output_type": "stream",
     "text": [
      "Choose wise dumb bitch\n"
     ]
    }
   ],
   "source": [
    "a = 1\n",
    "try:\n",
    "    b = int(input(\"Write a number to divide 'a':\"))\n",
    "    c = a/b\n",
    "    print(\"Succes c =\",c)\n",
    "except:\n",
    "    print(\"Choose wise dumb bitch\")"
   ]
  },
  {
   "cell_type": "code",
   "execution_count": 17,
   "id": "3bb17028-c58e-44fa-9e09-b744fa6d3ebe",
   "metadata": {},
   "outputs": [
    {
     "name": "stdin",
     "output_type": "stream",
     "text": [
      "Write a number to divide 'a': [1,2]\n"
     ]
    },
    {
     "name": "stdout",
     "output_type": "stream",
     "text": [
      "The input asks you for a number right? Then why the hell did you write that shit?\n"
     ]
    }
   ],
   "source": [
    "a = 1\n",
    "try:\n",
    "    b = float(input(\"Write a number to divide 'a':\"))\n",
    "    c = a/b\n",
    "except ZeroDivisionError:\n",
    "    print(\"You can't divide by '0', choose another\")\n",
    "except ValueError:\n",
    "    print(\"The input asks you for a number right? Then why the hell did you write that shit?\")\n",
    "except:\n",
    "    print(\"IDK what the fuck are you doing man\")\n",
    "else:\n",
    "    print(\"Succes c =\",c)"
   ]
  }
 ],
 "metadata": {
  "kernelspec": {
   "display_name": "Python 3 (ipykernel)",
   "language": "python",
   "name": "python3"
  },
  "language_info": {
   "codemirror_mode": {
    "name": "ipython",
    "version": 3
   },
   "file_extension": ".py",
   "mimetype": "text/x-python",
   "name": "python",
   "nbconvert_exporter": "python",
   "pygments_lexer": "ipython3",
   "version": "3.13.1"
  }
 },
 "nbformat": 4,
 "nbformat_minor": 5
}
